{
 "cells": [
  {
   "cell_type": "markdown",
   "id": "3529e704",
   "metadata": {},
   "source": [
    "# <center>Albergi Dataset</center>\n",
    "## <center>Exploratory Data Analysis + Data Visualization + Modelling</center>"
   ]
  },
  {
   "cell_type": "markdown",
   "id": "9294b1fa",
   "metadata": {},
   "source": [
    "### Importing Libraries"
   ]
  },
  {
   "cell_type": "code",
   "execution_count": 1,
   "id": "4383e746",
   "metadata": {
    "scrolled": true
   },
   "outputs": [
    {
     "name": "stdout",
     "output_type": "stream",
     "text": [
      "Libraries imported!\n"
     ]
    }
   ],
   "source": [
    "import numpy as np # library to handle data in a vectorized manner\n",
    "import pandas as pd # library for data analsysis\n",
    "pd.set_option('display.max_columns', None)\n",
    "pd.set_option('display.max_rows', None)\n",
    "import requests # library to handle requests\n",
    "import json # library to handle JSON files\n",
    "import urllib.request  # for opening and reading URLs\n",
    "import seaborn as sns  # data visualization library \n",
    "import matplotlib.cm as cm\n",
    "import matplotlib.colors as colors\n",
    "import xgboost as xgb\n",
    "\n",
    "from matplotlib import pyplot as plt #plotting\n",
    "from xgboost import XGBClassifier\n",
    "from sklearn import tree\n",
    "from sklearn.preprocessing import LabelEncoder, StandardScaler\n",
    "from sklearn.linear_model import LogisticRegression\n",
    "from sklearn.metrics import accuracy_score,confusion_matrix\n",
    "from sklearn.metrics import classification_report\n",
    "from sklearn.neighbors import KNeighborsClassifier\n",
    "from sklearn.tree import DecisionTreeClassifier\n",
    "from sklearn.model_selection import train_test_split\n",
    "from sklearn.model_selection import GridSearchCV\n",
    "from sklearn.ensemble import RandomForestClassifier\n",
    "from sklearn.ensemble import ExtraTreesClassifier\n",
    "from sklearn.ensemble import BaggingClassifier\n",
    "from sklearn.ensemble import AdaBoostClassifier\n",
    "from sklearn.ensemble import GradientBoostingClassifier\n",
    "from warnings import filterwarnings\n",
    "filterwarnings('ignore')\n",
    "print('Libraries imported!')"
   ]
  },
  {
   "cell_type": "markdown",
   "id": "8027df07",
   "metadata": {},
   "source": [
    "### Loading Dataset"
   ]
  },
  {
   "cell_type": "code",
   "execution_count": 2,
   "id": "8fe151b3",
   "metadata": {
    "scrolled": true
   },
   "outputs": [],
   "source": [
    "df = pd.read_csv(r'C:\\Users\\Haluk Sumen\\Desktop\\Project\\alberghi\\classification_dataset.csv', delimiter=\"\\t\")"
   ]
  },
  {
   "cell_type": "markdown",
   "id": "92cff737",
   "metadata": {},
   "source": [
    "### Exploratory Data Analysis"
   ]
  },
  {
   "cell_type": "code",
   "execution_count": 3,
   "id": "0c5de27a",
   "metadata": {},
   "outputs": [
    {
     "data": {
      "text/html": [
       "<div>\n",
       "<style scoped>\n",
       "    .dataframe tbody tr th:only-of-type {\n",
       "        vertical-align: middle;\n",
       "    }\n",
       "\n",
       "    .dataframe tbody tr th {\n",
       "        vertical-align: top;\n",
       "    }\n",
       "\n",
       "    .dataframe thead th {\n",
       "        text-align: right;\n",
       "    }\n",
       "</style>\n",
       "<table border=\"1\" class=\"dataframe\">\n",
       "  <thead>\n",
       "    <tr style=\"text-align: right;\">\n",
       "      <th></th>\n",
       "      <th>ID</th>\n",
       "      <th>PROVINCIA</th>\n",
       "      <th>COMUNE</th>\n",
       "      <th>LOCALITA</th>\n",
       "      <th>CAMERE</th>\n",
       "      <th>SUITE</th>\n",
       "      <th>LETTI</th>\n",
       "      <th>BAGNI</th>\n",
       "      <th>PRIMA_COLAZIONE</th>\n",
       "      <th>IN_ABITATO</th>\n",
       "      <th>SUL_LAGO</th>\n",
       "      <th>VICINO_ELIPORTO</th>\n",
       "      <th>VICINO_AEREOPORTO</th>\n",
       "      <th>ZONA_CENTRALE</th>\n",
       "      <th>VICINO_IMP_RISALITA</th>\n",
       "      <th>ZONA_PERIFERICA</th>\n",
       "      <th>ZONA_STAZIONE_FS</th>\n",
       "      <th>ATTREZZATURE_VARIE</th>\n",
       "      <th>CARTE_ACCETTATE</th>\n",
       "      <th>LINGUE_PARLATE</th>\n",
       "      <th>SPORT</th>\n",
       "      <th>CONGRESSI</th>\n",
       "      <th>LATITUDINE</th>\n",
       "      <th>LONGITUDINE</th>\n",
       "      <th>OUTPUT</th>\n",
       "    </tr>\n",
       "  </thead>\n",
       "  <tbody>\n",
       "    <tr>\n",
       "      <th>0</th>\n",
       "      <td>0</td>\n",
       "      <td>BS</td>\n",
       "      <td>PERTICA BASSA</td>\n",
       "      <td>NaN</td>\n",
       "      <td>2</td>\n",
       "      <td>0</td>\n",
       "      <td>4</td>\n",
       "      <td>1</td>\n",
       "      <td>0</td>\n",
       "      <td>0.0</td>\n",
       "      <td>0.0</td>\n",
       "      <td>0.0</td>\n",
       "      <td>0.0</td>\n",
       "      <td>0.0</td>\n",
       "      <td>0.0</td>\n",
       "      <td>0.0</td>\n",
       "      <td>0.0</td>\n",
       "      <td>NaN</td>\n",
       "      <td>NaN</td>\n",
       "      <td>NaN</td>\n",
       "      <td>NaN</td>\n",
       "      <td>NaN</td>\n",
       "      <td>10.373501</td>\n",
       "      <td>45.751381</td>\n",
       "      <td>B&amp;B</td>\n",
       "    </tr>\n",
       "    <tr>\n",
       "      <th>1</th>\n",
       "      <td>1</td>\n",
       "      <td>BS</td>\n",
       "      <td>DESENZANO DEL GARDA</td>\n",
       "      <td>NaN</td>\n",
       "      <td>4</td>\n",
       "      <td>0</td>\n",
       "      <td>8</td>\n",
       "      <td>4</td>\n",
       "      <td>0</td>\n",
       "      <td>0.0</td>\n",
       "      <td>0.0</td>\n",
       "      <td>0.0</td>\n",
       "      <td>0.0</td>\n",
       "      <td>0.0</td>\n",
       "      <td>0.0</td>\n",
       "      <td>0.0</td>\n",
       "      <td>0.0</td>\n",
       "      <td>NaN</td>\n",
       "      <td>NaN</td>\n",
       "      <td>NaN</td>\n",
       "      <td>NaN</td>\n",
       "      <td>NaN</td>\n",
       "      <td>10.538947</td>\n",
       "      <td>45.469485</td>\n",
       "      <td>B&amp;B</td>\n",
       "    </tr>\n",
       "    <tr>\n",
       "      <th>2</th>\n",
       "      <td>2</td>\n",
       "      <td>BG</td>\n",
       "      <td>BERGAMO</td>\n",
       "      <td>NaN</td>\n",
       "      <td>1</td>\n",
       "      <td>0</td>\n",
       "      <td>2</td>\n",
       "      <td>1</td>\n",
       "      <td>0</td>\n",
       "      <td>0.0</td>\n",
       "      <td>0.0</td>\n",
       "      <td>0.0</td>\n",
       "      <td>0.0</td>\n",
       "      <td>0.0</td>\n",
       "      <td>0.0</td>\n",
       "      <td>0.0</td>\n",
       "      <td>0.0</td>\n",
       "      <td>Accettazione animali domestici</td>\n",
       "      <td>NaN</td>\n",
       "      <td>NaN</td>\n",
       "      <td>NaN</td>\n",
       "      <td>NaN</td>\n",
       "      <td>9.665355</td>\n",
       "      <td>45.704158</td>\n",
       "      <td>Case_Appartamenti</td>\n",
       "    </tr>\n",
       "    <tr>\n",
       "      <th>3</th>\n",
       "      <td>3</td>\n",
       "      <td>MN</td>\n",
       "      <td>MANTOVA</td>\n",
       "      <td>BOCCABUSA</td>\n",
       "      <td>93</td>\n",
       "      <td>2</td>\n",
       "      <td>194</td>\n",
       "      <td>96</td>\n",
       "      <td>0</td>\n",
       "      <td>0.0</td>\n",
       "      <td>0.0</td>\n",
       "      <td>0.0</td>\n",
       "      <td>0.0</td>\n",
       "      <td>0.0</td>\n",
       "      <td>0.0</td>\n",
       "      <td>0.0</td>\n",
       "      <td>0.0</td>\n",
       "      <td>Ascensore,Ristorante,Bar,Accettazione animali ...</td>\n",
       "      <td>American express,Visa,Master Card,Diners,Maest...</td>\n",
       "      <td>Inglese,Francese,Spagnolo,Tedesco,Rumeno,Serbo...</td>\n",
       "      <td>NaN</td>\n",
       "      <td>Numero sale congressi 3,Congressi capacita' Mi...</td>\n",
       "      <td>10.828175</td>\n",
       "      <td>45.165506</td>\n",
       "      <td>4_a_5_Stelle</td>\n",
       "    </tr>\n",
       "    <tr>\n",
       "      <th>4</th>\n",
       "      <td>4</td>\n",
       "      <td>MI</td>\n",
       "      <td>MILANO</td>\n",
       "      <td>NaN</td>\n",
       "      <td>2</td>\n",
       "      <td>0</td>\n",
       "      <td>4</td>\n",
       "      <td>1</td>\n",
       "      <td>0</td>\n",
       "      <td>0.0</td>\n",
       "      <td>0.0</td>\n",
       "      <td>0.0</td>\n",
       "      <td>0.0</td>\n",
       "      <td>0.0</td>\n",
       "      <td>0.0</td>\n",
       "      <td>0.0</td>\n",
       "      <td>0.0</td>\n",
       "      <td>NaN</td>\n",
       "      <td>NaN</td>\n",
       "      <td>NaN</td>\n",
       "      <td>NaN</td>\n",
       "      <td>NaN</td>\n",
       "      <td>9.151637</td>\n",
       "      <td>45.457177</td>\n",
       "      <td>Case_Appartamenti</td>\n",
       "    </tr>\n",
       "  </tbody>\n",
       "</table>\n",
       "</div>"
      ],
      "text/plain": [
       "   ID PROVINCIA               COMUNE   LOCALITA  CAMERE  SUITE  LETTI  BAGNI  \\\n",
       "0   0        BS        PERTICA BASSA        NaN       2      0      4      1   \n",
       "1   1        BS  DESENZANO DEL GARDA        NaN       4      0      8      4   \n",
       "2   2        BG              BERGAMO        NaN       1      0      2      1   \n",
       "3   3        MN              MANTOVA  BOCCABUSA      93      2    194     96   \n",
       "4   4        MI               MILANO        NaN       2      0      4      1   \n",
       "\n",
       "   PRIMA_COLAZIONE  IN_ABITATO  SUL_LAGO  VICINO_ELIPORTO  VICINO_AEREOPORTO  \\\n",
       "0                0         0.0       0.0              0.0                0.0   \n",
       "1                0         0.0       0.0              0.0                0.0   \n",
       "2                0         0.0       0.0              0.0                0.0   \n",
       "3                0         0.0       0.0              0.0                0.0   \n",
       "4                0         0.0       0.0              0.0                0.0   \n",
       "\n",
       "   ZONA_CENTRALE  VICINO_IMP_RISALITA  ZONA_PERIFERICA  ZONA_STAZIONE_FS  \\\n",
       "0            0.0                  0.0              0.0               0.0   \n",
       "1            0.0                  0.0              0.0               0.0   \n",
       "2            0.0                  0.0              0.0               0.0   \n",
       "3            0.0                  0.0              0.0               0.0   \n",
       "4            0.0                  0.0              0.0               0.0   \n",
       "\n",
       "                                  ATTREZZATURE_VARIE  \\\n",
       "0                                                NaN   \n",
       "1                                                NaN   \n",
       "2                     Accettazione animali domestici   \n",
       "3  Ascensore,Ristorante,Bar,Accettazione animali ...   \n",
       "4                                                NaN   \n",
       "\n",
       "                                     CARTE_ACCETTATE  \\\n",
       "0                                                NaN   \n",
       "1                                                NaN   \n",
       "2                                                NaN   \n",
       "3  American express,Visa,Master Card,Diners,Maest...   \n",
       "4                                                NaN   \n",
       "\n",
       "                                      LINGUE_PARLATE SPORT  \\\n",
       "0                                                NaN   NaN   \n",
       "1                                                NaN   NaN   \n",
       "2                                                NaN   NaN   \n",
       "3  Inglese,Francese,Spagnolo,Tedesco,Rumeno,Serbo...   NaN   \n",
       "4                                                NaN   NaN   \n",
       "\n",
       "                                           CONGRESSI  LATITUDINE  LONGITUDINE  \\\n",
       "0                                                NaN   10.373501    45.751381   \n",
       "1                                                NaN   10.538947    45.469485   \n",
       "2                                                NaN    9.665355    45.704158   \n",
       "3  Numero sale congressi 3,Congressi capacita' Mi...   10.828175    45.165506   \n",
       "4                                                NaN    9.151637    45.457177   \n",
       "\n",
       "              OUTPUT  \n",
       "0                B&B  \n",
       "1                B&B  \n",
       "2  Case_Appartamenti  \n",
       "3       4_a_5_Stelle  \n",
       "4  Case_Appartamenti  "
      ]
     },
     "execution_count": 3,
     "metadata": {},
     "output_type": "execute_result"
    }
   ],
   "source": [
    "#First Look of Dataset\n",
    "df.head()"
   ]
  },
  {
   "cell_type": "code",
   "execution_count": 4,
   "id": "e8e16185",
   "metadata": {},
   "outputs": [
    {
     "data": {
      "text/plain": [
       "(6775, 25)"
      ]
     },
     "execution_count": 4,
     "metadata": {},
     "output_type": "execute_result"
    }
   ],
   "source": [
    "df.shape"
   ]
  },
  {
   "cell_type": "code",
   "execution_count": 5,
   "id": "9155480f",
   "metadata": {},
   "outputs": [
    {
     "data": {
      "text/plain": [
       "ID                       int64\n",
       "PROVINCIA               object\n",
       "COMUNE                  object\n",
       "LOCALITA                object\n",
       "CAMERE                   int64\n",
       "SUITE                    int64\n",
       "LETTI                    int64\n",
       "BAGNI                    int64\n",
       "PRIMA_COLAZIONE          int64\n",
       "IN_ABITATO             float64\n",
       "SUL_LAGO               float64\n",
       "VICINO_ELIPORTO        float64\n",
       "VICINO_AEREOPORTO      float64\n",
       "ZONA_CENTRALE          float64\n",
       "VICINO_IMP_RISALITA    float64\n",
       "ZONA_PERIFERICA        float64\n",
       "ZONA_STAZIONE_FS       float64\n",
       "ATTREZZATURE_VARIE      object\n",
       "CARTE_ACCETTATE         object\n",
       "LINGUE_PARLATE          object\n",
       "SPORT                   object\n",
       "CONGRESSI               object\n",
       "LATITUDINE             float64\n",
       "LONGITUDINE            float64\n",
       "OUTPUT                  object\n",
       "dtype: object"
      ]
     },
     "execution_count": 5,
     "metadata": {},
     "output_type": "execute_result"
    }
   ],
   "source": [
    "#Checking data types\n",
    "df.dtypes"
   ]
  },
  {
   "cell_type": "code",
   "execution_count": 6,
   "id": "e62f8700",
   "metadata": {},
   "outputs": [
    {
     "name": "stdout",
     "output_type": "stream",
     "text": [
      "# of NaN in each columns:\n",
      "ID                        0\n",
      "PROVINCIA                 0\n",
      "COMUNE                    0\n",
      "LOCALITA               6208\n",
      "CAMERE                    0\n",
      "SUITE                     0\n",
      "LETTI                     0\n",
      "BAGNI                     0\n",
      "PRIMA_COLAZIONE           0\n",
      "IN_ABITATO              107\n",
      "SUL_LAGO                107\n",
      "VICINO_ELIPORTO         107\n",
      "VICINO_AEREOPORTO       107\n",
      "ZONA_CENTRALE           107\n",
      "VICINO_IMP_RISALITA     107\n",
      "ZONA_PERIFERICA         107\n",
      "ZONA_STAZIONE_FS        107\n",
      "ATTREZZATURE_VARIE     2759\n",
      "CARTE_ACCETTATE        4705\n",
      "LINGUE_PARLATE         3680\n",
      "SPORT                  6168\n",
      "CONGRESSI              6468\n",
      "LATITUDINE               47\n",
      "LONGITUDINE              47\n",
      "OUTPUT                    0\n",
      "dtype: int64\n"
     ]
    }
   ],
   "source": [
    "#Checking number of NaN \n",
    "print(\"# of NaN in each columns:\", df.isnull().sum(), sep='\\n')"
   ]
  },
  {
   "cell_type": "code",
   "execution_count": 7,
   "id": "9a9d21f9",
   "metadata": {},
   "outputs": [
    {
     "data": {
      "text/html": [
       "<div>\n",
       "<style scoped>\n",
       "    .dataframe tbody tr th:only-of-type {\n",
       "        vertical-align: middle;\n",
       "    }\n",
       "\n",
       "    .dataframe tbody tr th {\n",
       "        vertical-align: top;\n",
       "    }\n",
       "\n",
       "    .dataframe thead th {\n",
       "        text-align: right;\n",
       "    }\n",
       "</style>\n",
       "<table border=\"1\" class=\"dataframe\">\n",
       "  <thead>\n",
       "    <tr style=\"text-align: right;\">\n",
       "      <th></th>\n",
       "      <th>ID</th>\n",
       "      <th>PROVINCIA</th>\n",
       "      <th>COMUNE</th>\n",
       "      <th>CAMERE</th>\n",
       "      <th>SUITE</th>\n",
       "      <th>LETTI</th>\n",
       "      <th>BAGNI</th>\n",
       "      <th>PRIMA_COLAZIONE</th>\n",
       "      <th>IN_ABITATO</th>\n",
       "      <th>SUL_LAGO</th>\n",
       "      <th>VICINO_ELIPORTO</th>\n",
       "      <th>VICINO_AEREOPORTO</th>\n",
       "      <th>ZONA_CENTRALE</th>\n",
       "      <th>VICINO_IMP_RISALITA</th>\n",
       "      <th>ZONA_PERIFERICA</th>\n",
       "      <th>ZONA_STAZIONE_FS</th>\n",
       "      <th>ATTREZZATURE_VARIE</th>\n",
       "      <th>CARTE_ACCETTATE</th>\n",
       "      <th>LINGUE_PARLATE</th>\n",
       "      <th>OUTPUT</th>\n",
       "    </tr>\n",
       "  </thead>\n",
       "  <tbody>\n",
       "    <tr>\n",
       "      <th>0</th>\n",
       "      <td>0</td>\n",
       "      <td>BS</td>\n",
       "      <td>PERTICA BASSA</td>\n",
       "      <td>2</td>\n",
       "      <td>0</td>\n",
       "      <td>4</td>\n",
       "      <td>1</td>\n",
       "      <td>0</td>\n",
       "      <td>0.0</td>\n",
       "      <td>0.0</td>\n",
       "      <td>0.0</td>\n",
       "      <td>0.0</td>\n",
       "      <td>0.0</td>\n",
       "      <td>0.0</td>\n",
       "      <td>0.0</td>\n",
       "      <td>0.0</td>\n",
       "      <td>NaN</td>\n",
       "      <td>NaN</td>\n",
       "      <td>NaN</td>\n",
       "      <td>B&amp;B</td>\n",
       "    </tr>\n",
       "    <tr>\n",
       "      <th>1</th>\n",
       "      <td>1</td>\n",
       "      <td>BS</td>\n",
       "      <td>DESENZANO DEL GARDA</td>\n",
       "      <td>4</td>\n",
       "      <td>0</td>\n",
       "      <td>8</td>\n",
       "      <td>4</td>\n",
       "      <td>0</td>\n",
       "      <td>0.0</td>\n",
       "      <td>0.0</td>\n",
       "      <td>0.0</td>\n",
       "      <td>0.0</td>\n",
       "      <td>0.0</td>\n",
       "      <td>0.0</td>\n",
       "      <td>0.0</td>\n",
       "      <td>0.0</td>\n",
       "      <td>NaN</td>\n",
       "      <td>NaN</td>\n",
       "      <td>NaN</td>\n",
       "      <td>B&amp;B</td>\n",
       "    </tr>\n",
       "    <tr>\n",
       "      <th>2</th>\n",
       "      <td>2</td>\n",
       "      <td>BG</td>\n",
       "      <td>BERGAMO</td>\n",
       "      <td>1</td>\n",
       "      <td>0</td>\n",
       "      <td>2</td>\n",
       "      <td>1</td>\n",
       "      <td>0</td>\n",
       "      <td>0.0</td>\n",
       "      <td>0.0</td>\n",
       "      <td>0.0</td>\n",
       "      <td>0.0</td>\n",
       "      <td>0.0</td>\n",
       "      <td>0.0</td>\n",
       "      <td>0.0</td>\n",
       "      <td>0.0</td>\n",
       "      <td>Accettazione animali domestici</td>\n",
       "      <td>NaN</td>\n",
       "      <td>NaN</td>\n",
       "      <td>Case_Appartamenti</td>\n",
       "    </tr>\n",
       "    <tr>\n",
       "      <th>3</th>\n",
       "      <td>3</td>\n",
       "      <td>MN</td>\n",
       "      <td>MANTOVA</td>\n",
       "      <td>93</td>\n",
       "      <td>2</td>\n",
       "      <td>194</td>\n",
       "      <td>96</td>\n",
       "      <td>0</td>\n",
       "      <td>0.0</td>\n",
       "      <td>0.0</td>\n",
       "      <td>0.0</td>\n",
       "      <td>0.0</td>\n",
       "      <td>0.0</td>\n",
       "      <td>0.0</td>\n",
       "      <td>0.0</td>\n",
       "      <td>0.0</td>\n",
       "      <td>Ascensore,Ristorante,Bar,Accettazione animali ...</td>\n",
       "      <td>American express,Visa,Master Card,Diners,Maest...</td>\n",
       "      <td>Inglese,Francese,Spagnolo,Tedesco,Rumeno,Serbo...</td>\n",
       "      <td>4_a_5_Stelle</td>\n",
       "    </tr>\n",
       "    <tr>\n",
       "      <th>4</th>\n",
       "      <td>4</td>\n",
       "      <td>MI</td>\n",
       "      <td>MILANO</td>\n",
       "      <td>2</td>\n",
       "      <td>0</td>\n",
       "      <td>4</td>\n",
       "      <td>1</td>\n",
       "      <td>0</td>\n",
       "      <td>0.0</td>\n",
       "      <td>0.0</td>\n",
       "      <td>0.0</td>\n",
       "      <td>0.0</td>\n",
       "      <td>0.0</td>\n",
       "      <td>0.0</td>\n",
       "      <td>0.0</td>\n",
       "      <td>0.0</td>\n",
       "      <td>NaN</td>\n",
       "      <td>NaN</td>\n",
       "      <td>NaN</td>\n",
       "      <td>Case_Appartamenti</td>\n",
       "    </tr>\n",
       "  </tbody>\n",
       "</table>\n",
       "</div>"
      ],
      "text/plain": [
       "   ID PROVINCIA               COMUNE  CAMERE  SUITE  LETTI  BAGNI  \\\n",
       "0   0        BS        PERTICA BASSA       2      0      4      1   \n",
       "1   1        BS  DESENZANO DEL GARDA       4      0      8      4   \n",
       "2   2        BG              BERGAMO       1      0      2      1   \n",
       "3   3        MN              MANTOVA      93      2    194     96   \n",
       "4   4        MI               MILANO       2      0      4      1   \n",
       "\n",
       "   PRIMA_COLAZIONE  IN_ABITATO  SUL_LAGO  VICINO_ELIPORTO  VICINO_AEREOPORTO  \\\n",
       "0                0         0.0       0.0              0.0                0.0   \n",
       "1                0         0.0       0.0              0.0                0.0   \n",
       "2                0         0.0       0.0              0.0                0.0   \n",
       "3                0         0.0       0.0              0.0                0.0   \n",
       "4                0         0.0       0.0              0.0                0.0   \n",
       "\n",
       "   ZONA_CENTRALE  VICINO_IMP_RISALITA  ZONA_PERIFERICA  ZONA_STAZIONE_FS  \\\n",
       "0            0.0                  0.0              0.0               0.0   \n",
       "1            0.0                  0.0              0.0               0.0   \n",
       "2            0.0                  0.0              0.0               0.0   \n",
       "3            0.0                  0.0              0.0               0.0   \n",
       "4            0.0                  0.0              0.0               0.0   \n",
       "\n",
       "                                  ATTREZZATURE_VARIE  \\\n",
       "0                                                NaN   \n",
       "1                                                NaN   \n",
       "2                     Accettazione animali domestici   \n",
       "3  Ascensore,Ristorante,Bar,Accettazione animali ...   \n",
       "4                                                NaN   \n",
       "\n",
       "                                     CARTE_ACCETTATE  \\\n",
       "0                                                NaN   \n",
       "1                                                NaN   \n",
       "2                                                NaN   \n",
       "3  American express,Visa,Master Card,Diners,Maest...   \n",
       "4                                                NaN   \n",
       "\n",
       "                                      LINGUE_PARLATE             OUTPUT  \n",
       "0                                                NaN                B&B  \n",
       "1                                                NaN                B&B  \n",
       "2                                                NaN  Case_Appartamenti  \n",
       "3  Inglese,Francese,Spagnolo,Tedesco,Rumeno,Serbo...       4_a_5_Stelle  \n",
       "4                                                NaN  Case_Appartamenti  "
      ]
     },
     "execution_count": 7,
     "metadata": {},
     "output_type": "execute_result"
    }
   ],
   "source": [
    "#Dropping Unrelevant Columns\n",
    "df.drop(['LOCALITA', 'SPORT','CONGRESSI','LATITUDINE','LONGITUDINE'], axis = 1, inplace=True)\n",
    "df.head()"
   ]
  },
  {
   "cell_type": "code",
   "execution_count": 8,
   "id": "6f1d863e",
   "metadata": {},
   "outputs": [],
   "source": [
    "#Dropping NaN Rows in Columns \n",
    "df.dropna(subset=['IN_ABITATO', 'SUL_LAGO', 'VICINO_ELIPORTO',\n",
    "                  'VICINO_AEREOPORTO', 'ZONA_CENTRALE', 'VICINO_IMP_RISALITA',\n",
    "                  'ZONA_PERIFERICA', 'ZONA_STAZIONE_FS'], axis = 0, inplace=True)"
   ]
  },
  {
   "cell_type": "code",
   "execution_count": 9,
   "id": "40c0e47c",
   "metadata": {},
   "outputs": [
    {
     "data": {
      "text/plain": [
       "(6668, 20)"
      ]
     },
     "execution_count": 9,
     "metadata": {},
     "output_type": "execute_result"
    }
   ],
   "source": [
    "df.shape"
   ]
  },
  {
   "cell_type": "code",
   "execution_count": 10,
   "id": "157338e6",
   "metadata": {},
   "outputs": [
    {
     "name": "stdout",
     "output_type": "stream",
     "text": [
      "# of NaN in each columns:\n",
      "ID                        0\n",
      "PROVINCIA                 0\n",
      "COMUNE                    0\n",
      "CAMERE                    0\n",
      "SUITE                     0\n",
      "LETTI                     0\n",
      "BAGNI                     0\n",
      "PRIMA_COLAZIONE           0\n",
      "IN_ABITATO                0\n",
      "SUL_LAGO                  0\n",
      "VICINO_ELIPORTO           0\n",
      "VICINO_AEREOPORTO         0\n",
      "ZONA_CENTRALE             0\n",
      "VICINO_IMP_RISALITA       0\n",
      "ZONA_PERIFERICA           0\n",
      "ZONA_STAZIONE_FS          0\n",
      "ATTREZZATURE_VARIE     2690\n",
      "CARTE_ACCETTATE        4600\n",
      "LINGUE_PARLATE         3609\n",
      "OUTPUT                    0\n",
      "dtype: int64\n"
     ]
    }
   ],
   "source": [
    "print(\"# of NaN in each columns:\", df.isnull().sum(), sep='\\n')"
   ]
  },
  {
   "cell_type": "code",
   "execution_count": 11,
   "id": "4a1f18c3",
   "metadata": {},
   "outputs": [],
   "source": [
    "#Changing Float Data Types to Integer \n",
    "df[['IN_ABITATO', 'SUL_LAGO', 'VICINO_ELIPORTO','VICINO_AEREOPORTO', 'ZONA_CENTRALE', 'VICINO_IMP_RISALITA', 'ZONA_PERIFERICA', 'ZONA_STAZIONE_FS']] = df[['IN_ABITATO', 'SUL_LAGO', 'VICINO_ELIPORTO','VICINO_AEREOPORTO', 'ZONA_CENTRALE', 'VICINO_IMP_RISALITA', 'ZONA_PERIFERICA', 'ZONA_STAZIONE_FS']].astype('int64')"
   ]
  },
  {
   "cell_type": "code",
   "execution_count": 12,
   "id": "5f3b84bb",
   "metadata": {
    "scrolled": true
   },
   "outputs": [
    {
     "data": {
      "text/plain": [
       "<AxesSubplot:title={'center':'# of Places according to Their Types '}, xlabel='OUTPUT', ylabel='count'>"
      ]
     },
     "execution_count": 12,
     "metadata": {},
     "output_type": "execute_result"
    },
    {
     "data": {
      "image/png": "[encoded data removed]",
      "text/plain": [
       "<Figure size 1080x720 with 1 Axes>"
      ]
     },
     "metadata": {
      "needs_background": "light"
     },
     "output_type": "display_data"
    }
   ],
   "source": [
    "#Number of Places according to Their Types\n",
    "fig = plt.figure(figsize=(15,10))\n",
    "sns.set(style=\"darkgrid\")\n",
    "plt.title(\"# of Places according to Their Types \")\n",
    "sns.countplot(df['OUTPUT'])"
   ]
  },
  {
   "cell_type": "code",
   "execution_count": 13,
   "id": "af2082b4",
   "metadata": {},
   "outputs": [
    {
     "data": {
      "text/html": [
       "<div>\n",
       "<style scoped>\n",
       "    .dataframe tbody tr th:only-of-type {\n",
       "        vertical-align: middle;\n",
       "    }\n",
       "\n",
       "    .dataframe tbody tr th {\n",
       "        vertical-align: top;\n",
       "    }\n",
       "\n",
       "    .dataframe thead th {\n",
       "        text-align: right;\n",
       "    }\n",
       "</style>\n",
       "<table border=\"1\" class=\"dataframe\">\n",
       "  <thead>\n",
       "    <tr style=\"text-align: right;\">\n",
       "      <th></th>\n",
       "      <th>Provincia</th>\n",
       "      <th>Frequency</th>\n",
       "    </tr>\n",
       "  </thead>\n",
       "  <tbody>\n",
       "    <tr>\n",
       "      <th>0</th>\n",
       "      <td>BS</td>\n",
       "      <td>2065</td>\n",
       "    </tr>\n",
       "    <tr>\n",
       "      <th>1</th>\n",
       "      <td>MI</td>\n",
       "      <td>1395</td>\n",
       "    </tr>\n",
       "    <tr>\n",
       "      <th>2</th>\n",
       "      <td>BG</td>\n",
       "      <td>943</td>\n",
       "    </tr>\n",
       "    <tr>\n",
       "      <th>3</th>\n",
       "      <td>SO</td>\n",
       "      <td>575</td>\n",
       "    </tr>\n",
       "    <tr>\n",
       "      <th>4</th>\n",
       "      <td>CO</td>\n",
       "      <td>498</td>\n",
       "    </tr>\n",
       "    <tr>\n",
       "      <th>5</th>\n",
       "      <td>VA</td>\n",
       "      <td>296</td>\n",
       "    </tr>\n",
       "    <tr>\n",
       "      <th>6</th>\n",
       "      <td>LC</td>\n",
       "      <td>257</td>\n",
       "    </tr>\n",
       "    <tr>\n",
       "      <th>7</th>\n",
       "      <td>MN</td>\n",
       "      <td>200</td>\n",
       "    </tr>\n",
       "    <tr>\n",
       "      <th>8</th>\n",
       "      <td>PV</td>\n",
       "      <td>181</td>\n",
       "    </tr>\n",
       "    <tr>\n",
       "      <th>9</th>\n",
       "      <td>MB</td>\n",
       "      <td>127</td>\n",
       "    </tr>\n",
       "    <tr>\n",
       "      <th>10</th>\n",
       "      <td>CR</td>\n",
       "      <td>103</td>\n",
       "    </tr>\n",
       "    <tr>\n",
       "      <th>11</th>\n",
       "      <td>LO</td>\n",
       "      <td>28</td>\n",
       "    </tr>\n",
       "  </tbody>\n",
       "</table>\n",
       "</div>"
      ],
      "text/plain": [
       "   Provincia  Frequency\n",
       "0         BS       2065\n",
       "1         MI       1395\n",
       "2         BG        943\n",
       "3         SO        575\n",
       "4         CO        498\n",
       "5         VA        296\n",
       "6         LC        257\n",
       "7         MN        200\n",
       "8         PV        181\n",
       "9         MB        127\n",
       "10        CR        103\n",
       "11        LO         28"
      ]
     },
     "execution_count": 13,
     "metadata": {},
     "output_type": "execute_result"
    }
   ],
   "source": [
    "#Number of Hotels Across Provinces\n",
    "df_province = df['PROVINCIA'].value_counts()[0:12].to_frame(name='Frequency')\n",
    "df_province = df_province.reset_index()\n",
    "df_province.rename(index=str, columns={\"index\": \"Provincia\", \"frequency\": \"Frequency\"}, inplace=True)\n",
    "df_province"
   ]
  },
  {
   "cell_type": "code",
   "execution_count": 14,
   "id": "10a7ae6f",
   "metadata": {},
   "outputs": [
    {
     "data": {
      "image/png": "[encoded data removed]",
      "text/plain": [
       "<Figure size 1080x720 with 1 Axes>"
      ]
     },
     "metadata": {},
     "output_type": "display_data"
    }
   ],
   "source": [
    "#Number of Hotels According to Province\n",
    "plt.figure(figsize =(15,10))\n",
    "sns.set(style=\"darkgrid\")\n",
    "plt.title(\"# of Places in Provinces \")\n",
    "ax = sns.countplot(x = \"PROVINCIA\", data = df)"
   ]
  },
  {
   "cell_type": "code",
   "execution_count": 15,
   "id": "0b41691a",
   "metadata": {},
   "outputs": [],
   "source": [
    "cor_data = df.copy()"
   ]
  },
  {
   "cell_type": "code",
   "execution_count": 16,
   "id": "000e57b3",
   "metadata": {},
   "outputs": [
    {
     "data": {
      "text/html": [
       "<div>\n",
       "<style scoped>\n",
       "    .dataframe tbody tr th:only-of-type {\n",
       "        vertical-align: middle;\n",
       "    }\n",
       "\n",
       "    .dataframe tbody tr th {\n",
       "        vertical-align: top;\n",
       "    }\n",
       "\n",
       "    .dataframe thead th {\n",
       "        text-align: right;\n",
       "    }\n",
       "</style>\n",
       "<table border=\"1\" class=\"dataframe\">\n",
       "  <thead>\n",
       "    <tr style=\"text-align: right;\">\n",
       "      <th></th>\n",
       "      <th>ID</th>\n",
       "      <th>PROVINCIA</th>\n",
       "      <th>COMUNE</th>\n",
       "      <th>CAMERE</th>\n",
       "      <th>SUITE</th>\n",
       "      <th>LETTI</th>\n",
       "      <th>BAGNI</th>\n",
       "      <th>PRIMA_COLAZIONE</th>\n",
       "      <th>IN_ABITATO</th>\n",
       "      <th>SUL_LAGO</th>\n",
       "      <th>VICINO_ELIPORTO</th>\n",
       "      <th>VICINO_AEREOPORTO</th>\n",
       "      <th>ZONA_CENTRALE</th>\n",
       "      <th>VICINO_IMP_RISALITA</th>\n",
       "      <th>ZONA_PERIFERICA</th>\n",
       "      <th>ZONA_STAZIONE_FS</th>\n",
       "      <th>ATTREZZATURE_VARIE</th>\n",
       "      <th>CARTE_ACCETTATE</th>\n",
       "      <th>LINGUE_PARLATE</th>\n",
       "      <th>OUTPUT</th>\n",
       "    </tr>\n",
       "  </thead>\n",
       "  <tbody>\n",
       "    <tr>\n",
       "      <th>0</th>\n",
       "      <td>0</td>\n",
       "      <td>BS</td>\n",
       "      <td>PERTICA BASSA</td>\n",
       "      <td>2</td>\n",
       "      <td>0</td>\n",
       "      <td>4</td>\n",
       "      <td>1</td>\n",
       "      <td>0</td>\n",
       "      <td>0</td>\n",
       "      <td>0</td>\n",
       "      <td>0</td>\n",
       "      <td>0</td>\n",
       "      <td>0</td>\n",
       "      <td>0</td>\n",
       "      <td>0</td>\n",
       "      <td>0</td>\n",
       "      <td>NaN</td>\n",
       "      <td>NaN</td>\n",
       "      <td>NaN</td>\n",
       "      <td>B&amp;B</td>\n",
       "    </tr>\n",
       "    <tr>\n",
       "      <th>1</th>\n",
       "      <td>1</td>\n",
       "      <td>BS</td>\n",
       "      <td>DESENZANO DEL GARDA</td>\n",
       "      <td>4</td>\n",
       "      <td>0</td>\n",
       "      <td>8</td>\n",
       "      <td>4</td>\n",
       "      <td>0</td>\n",
       "      <td>0</td>\n",
       "      <td>0</td>\n",
       "      <td>0</td>\n",
       "      <td>0</td>\n",
       "      <td>0</td>\n",
       "      <td>0</td>\n",
       "      <td>0</td>\n",
       "      <td>0</td>\n",
       "      <td>NaN</td>\n",
       "      <td>NaN</td>\n",
       "      <td>NaN</td>\n",
       "      <td>B&amp;B</td>\n",
       "    </tr>\n",
       "    <tr>\n",
       "      <th>2</th>\n",
       "      <td>2</td>\n",
       "      <td>BG</td>\n",
       "      <td>BERGAMO</td>\n",
       "      <td>1</td>\n",
       "      <td>0</td>\n",
       "      <td>2</td>\n",
       "      <td>1</td>\n",
       "      <td>0</td>\n",
       "      <td>0</td>\n",
       "      <td>0</td>\n",
       "      <td>0</td>\n",
       "      <td>0</td>\n",
       "      <td>0</td>\n",
       "      <td>0</td>\n",
       "      <td>0</td>\n",
       "      <td>0</td>\n",
       "      <td>Accettazione animali domestici</td>\n",
       "      <td>NaN</td>\n",
       "      <td>NaN</td>\n",
       "      <td>Case_Appartamenti</td>\n",
       "    </tr>\n",
       "    <tr>\n",
       "      <th>3</th>\n",
       "      <td>3</td>\n",
       "      <td>MN</td>\n",
       "      <td>MANTOVA</td>\n",
       "      <td>93</td>\n",
       "      <td>2</td>\n",
       "      <td>194</td>\n",
       "      <td>96</td>\n",
       "      <td>0</td>\n",
       "      <td>0</td>\n",
       "      <td>0</td>\n",
       "      <td>0</td>\n",
       "      <td>0</td>\n",
       "      <td>0</td>\n",
       "      <td>0</td>\n",
       "      <td>0</td>\n",
       "      <td>0</td>\n",
       "      <td>Ascensore,Ristorante,Bar,Accettazione animali ...</td>\n",
       "      <td>American express,Visa,Master Card,Diners,Maest...</td>\n",
       "      <td>Inglese,Francese,Spagnolo,Tedesco,Rumeno,Serbo...</td>\n",
       "      <td>4_a_5_Stelle</td>\n",
       "    </tr>\n",
       "    <tr>\n",
       "      <th>4</th>\n",
       "      <td>4</td>\n",
       "      <td>MI</td>\n",
       "      <td>MILANO</td>\n",
       "      <td>2</td>\n",
       "      <td>0</td>\n",
       "      <td>4</td>\n",
       "      <td>1</td>\n",
       "      <td>0</td>\n",
       "      <td>0</td>\n",
       "      <td>0</td>\n",
       "      <td>0</td>\n",
       "      <td>0</td>\n",
       "      <td>0</td>\n",
       "      <td>0</td>\n",
       "      <td>0</td>\n",
       "      <td>0</td>\n",
       "      <td>NaN</td>\n",
       "      <td>NaN</td>\n",
       "      <td>NaN</td>\n",
       "      <td>Case_Appartamenti</td>\n",
       "    </tr>\n",
       "  </tbody>\n",
       "</table>\n",
       "</div>"
      ],
      "text/plain": [
       "   ID PROVINCIA               COMUNE  CAMERE  SUITE  LETTI  BAGNI  \\\n",
       "0   0        BS        PERTICA BASSA       2      0      4      1   \n",
       "1   1        BS  DESENZANO DEL GARDA       4      0      8      4   \n",
       "2   2        BG              BERGAMO       1      0      2      1   \n",
       "3   3        MN              MANTOVA      93      2    194     96   \n",
       "4   4        MI               MILANO       2      0      4      1   \n",
       "\n",
       "   PRIMA_COLAZIONE  IN_ABITATO  SUL_LAGO  VICINO_ELIPORTO  VICINO_AEREOPORTO  \\\n",
       "0                0           0         0                0                  0   \n",
       "1                0           0         0                0                  0   \n",
       "2                0           0         0                0                  0   \n",
       "3                0           0         0                0                  0   \n",
       "4                0           0         0                0                  0   \n",
       "\n",
       "   ZONA_CENTRALE  VICINO_IMP_RISALITA  ZONA_PERIFERICA  ZONA_STAZIONE_FS  \\\n",
       "0              0                    0                0                 0   \n",
       "1              0                    0                0                 0   \n",
       "2              0                    0                0                 0   \n",
       "3              0                    0                0                 0   \n",
       "4              0                    0                0                 0   \n",
       "\n",
       "                                  ATTREZZATURE_VARIE  \\\n",
       "0                                                NaN   \n",
       "1                                                NaN   \n",
       "2                     Accettazione animali domestici   \n",
       "3  Ascensore,Ristorante,Bar,Accettazione animali ...   \n",
       "4                                                NaN   \n",
       "\n",
       "                                     CARTE_ACCETTATE  \\\n",
       "0                                                NaN   \n",
       "1                                                NaN   \n",
       "2                                                NaN   \n",
       "3  American express,Visa,Master Card,Diners,Maest...   \n",
       "4                                                NaN   \n",
       "\n",
       "                                      LINGUE_PARLATE             OUTPUT  \n",
       "0                                                NaN                B&B  \n",
       "1                                                NaN                B&B  \n",
       "2                                                NaN  Case_Appartamenti  \n",
       "3  Inglese,Francese,Spagnolo,Tedesco,Rumeno,Serbo...       4_a_5_Stelle  \n",
       "4                                                NaN  Case_Appartamenti  "
      ]
     },
     "execution_count": 16,
     "metadata": {},
     "output_type": "execute_result"
    }
   ],
   "source": [
    "cor_data.head()"
   ]
  },
  {
   "cell_type": "code",
   "execution_count": 17,
   "id": "aa73a712",
   "metadata": {},
   "outputs": [
    {
     "name": "stdout",
     "output_type": "stream",
     "text": [
      "PROVINCIA 12\n",
      "COMUNE 942\n",
      "ATTREZZATURE_VARIE 2758\n",
      "CARTE_ACCETTATE 703\n",
      "LINGUE_PARLATE 211\n",
      "OUTPUT 5\n"
     ]
    }
   ],
   "source": [
    "a = df.select_dtypes(object).columns\n",
    "for i in a:\n",
    "    print (i, df[i].nunique())"
   ]
  },
  {
   "cell_type": "code",
   "execution_count": 18,
   "id": "c20667e7",
   "metadata": {},
   "outputs": [
    {
     "name": "stdout",
     "output_type": "stream",
     "text": [
      "ID 6668\n",
      "CAMERE 215\n",
      "SUITE 50\n",
      "LETTI 348\n",
      "BAGNI 188\n",
      "PRIMA_COLAZIONE 2\n",
      "IN_ABITATO 2\n",
      "SUL_LAGO 2\n",
      "VICINO_ELIPORTO 2\n",
      "VICINO_AEREOPORTO 2\n",
      "ZONA_CENTRALE 2\n",
      "VICINO_IMP_RISALITA 2\n",
      "ZONA_PERIFERICA 2\n",
      "ZONA_STAZIONE_FS 2\n"
     ]
    }
   ],
   "source": [
    "a = df.select_dtypes(int).columns\n",
    "for i in a:\n",
    "    print (i, df[i].nunique())"
   ]
  },
  {
   "cell_type": "code",
   "execution_count": 19,
   "id": "037f6a5e",
   "metadata": {},
   "outputs": [
    {
     "data": {
      "text/plain": [
       "Text(0.5, 1.0, '# of Room Comparing to Bed ')"
      ]
     },
     "execution_count": 19,
     "metadata": {},
     "output_type": "execute_result"
    },
    {
     "data": {
      "image/png": "[encoded data removed]",
      "text/plain": [
       "<Figure size 569.225x432 with 1 Axes>"
      ]
     },
     "metadata": {},
     "output_type": "display_data"
    }
   ],
   "source": [
    "#Number of Room Comparing to Bed\n",
    "sns.lmplot(x='LETTI', y='CAMERE', data=df,\n",
    "          fit_reg=False,\n",
    "          hue='OUTPUT',\n",
    "          legend=True,\n",
    "          palette=\"Set1\",height=6)\n",
    "plt.title(\"# of Room Comparing to Bed \")"
   ]
  },
  {
   "cell_type": "code",
   "execution_count": 20,
   "id": "e4831e97",
   "metadata": {},
   "outputs": [],
   "source": [
    "le = LabelEncoder()"
   ]
  },
  {
   "cell_type": "code",
   "execution_count": 21,
   "id": "96e33764",
   "metadata": {},
   "outputs": [],
   "source": [
    "# This data will not be used while predicting cancellation. This is just for checking correlation.\n",
    "cor_data['PROVINCIA'] = le.fit_transform(cor_data['PROVINCIA'])\n",
    "cor_data['COMUNE'] = le.fit_transform(cor_data['COMUNE'])\n",
    "cor_data['CAMERE'] = le.fit_transform(cor_data['CAMERE'])\n",
    "cor_data['SUITE'] = le.fit_transform(cor_data['SUITE'])\n",
    "cor_data['LETTI'] = le.fit_transform(cor_data['LETTI'])\n",
    "cor_data['BAGNI'] = le.fit_transform(cor_data['BAGNI'])\n",
    "cor_data['PRIMA_COLAZIONE'] = le.fit_transform(cor_data['PRIMA_COLAZIONE'])\n",
    "cor_data['IN_ABITATO'] = le.fit_transform(cor_data['CAMERE'])\n",
    "cor_data['SUL_LAGO'] = le.fit_transform(cor_data['SUL_LAGO'])\n",
    "cor_data['VICINO_ELIPORTO'] = le.fit_transform(cor_data['VICINO_ELIPORTO'])\n",
    "cor_data['VICINO_AEREOPORTO'] = le.fit_transform(cor_data['VICINO_AEREOPORTO'])\n",
    "cor_data['ZONA_CENTRALE'] = le.fit_transform(cor_data['ZONA_CENTRALE'])\n",
    "cor_data['VICINO_IMP_RISALITA'] = le.fit_transform(cor_data['VICINO_IMP_RISALITA'])\n",
    "cor_data['ZONA_PERIFERICA'] = le.fit_transform(cor_data['ZONA_PERIFERICA'])\n",
    "cor_data['ZONA_STAZIONE_FS'] = le.fit_transform(cor_data['ZONA_STAZIONE_FS'])\n",
    "cor_data['ATTREZZATURE_VARIE'] = le.fit_transform(cor_data['ATTREZZATURE_VARIE'])\n",
    "cor_data['CARTE_ACCETTATE'] = le.fit_transform(cor_data['CARTE_ACCETTATE'])\n",
    "cor_data['LINGUE_PARLATE'] = le.fit_transform(cor_data['LINGUE_PARLATE'])\n",
    "cor_data['OUTPUT'] = le.fit_transform(cor_data['OUTPUT'])"
   ]
  },
  {
   "cell_type": "code",
   "execution_count": 22,
   "id": "02ee6353",
   "metadata": {},
   "outputs": [
    {
     "data": {
      "text/html": [
       "<div>\n",
       "<style scoped>\n",
       "    .dataframe tbody tr th:only-of-type {\n",
       "        vertical-align: middle;\n",
       "    }\n",
       "\n",
       "    .dataframe tbody tr th {\n",
       "        vertical-align: top;\n",
       "    }\n",
       "\n",
       "    .dataframe thead th {\n",
       "        text-align: right;\n",
       "    }\n",
       "</style>\n",
       "<table border=\"1\" class=\"dataframe\">\n",
       "  <thead>\n",
       "    <tr style=\"text-align: right;\">\n",
       "      <th></th>\n",
       "      <th>ID</th>\n",
       "      <th>PROVINCIA</th>\n",
       "      <th>COMUNE</th>\n",
       "      <th>CAMERE</th>\n",
       "      <th>SUITE</th>\n",
       "      <th>LETTI</th>\n",
       "      <th>BAGNI</th>\n",
       "      <th>PRIMA_COLAZIONE</th>\n",
       "      <th>IN_ABITATO</th>\n",
       "      <th>SUL_LAGO</th>\n",
       "      <th>VICINO_ELIPORTO</th>\n",
       "      <th>VICINO_AEREOPORTO</th>\n",
       "      <th>ZONA_CENTRALE</th>\n",
       "      <th>VICINO_IMP_RISALITA</th>\n",
       "      <th>ZONA_PERIFERICA</th>\n",
       "      <th>ZONA_STAZIONE_FS</th>\n",
       "      <th>ATTREZZATURE_VARIE</th>\n",
       "      <th>CARTE_ACCETTATE</th>\n",
       "      <th>LINGUE_PARLATE</th>\n",
       "      <th>OUTPUT</th>\n",
       "    </tr>\n",
       "  </thead>\n",
       "  <tbody>\n",
       "    <tr>\n",
       "      <th>ID</th>\n",
       "      <td>1.000000</td>\n",
       "      <td>-0.001138</td>\n",
       "      <td>0.009904</td>\n",
       "      <td>0.008897</td>\n",
       "      <td>0.002633</td>\n",
       "      <td>0.007181</td>\n",
       "      <td>0.007609</td>\n",
       "      <td>0.023297</td>\n",
       "      <td>0.008897</td>\n",
       "      <td>0.010389</td>\n",
       "      <td>-0.008045</td>\n",
       "      <td>0.005254</td>\n",
       "      <td>0.010674</td>\n",
       "      <td>-0.021934</td>\n",
       "      <td>-0.002472</td>\n",
       "      <td>0.002962</td>\n",
       "      <td>-0.004240</td>\n",
       "      <td>-0.007732</td>\n",
       "      <td>-0.002051</td>\n",
       "      <td>0.004497</td>\n",
       "    </tr>\n",
       "    <tr>\n",
       "      <th>PROVINCIA</th>\n",
       "      <td>-0.001138</td>\n",
       "      <td>1.000000</td>\n",
       "      <td>0.050438</td>\n",
       "      <td>0.076185</td>\n",
       "      <td>0.120791</td>\n",
       "      <td>0.077914</td>\n",
       "      <td>0.118488</td>\n",
       "      <td>0.095127</td>\n",
       "      <td>0.076185</td>\n",
       "      <td>-0.106033</td>\n",
       "      <td>0.039011</td>\n",
       "      <td>0.170357</td>\n",
       "      <td>0.158303</td>\n",
       "      <td>-0.057793</td>\n",
       "      <td>0.084578</td>\n",
       "      <td>0.196832</td>\n",
       "      <td>-0.257960</td>\n",
       "      <td>-0.175506</td>\n",
       "      <td>-0.297363</td>\n",
       "      <td>-0.196708</td>\n",
       "    </tr>\n",
       "    <tr>\n",
       "      <th>COMUNE</th>\n",
       "      <td>0.009904</td>\n",
       "      <td>0.050438</td>\n",
       "      <td>1.000000</td>\n",
       "      <td>0.009100</td>\n",
       "      <td>-0.024779</td>\n",
       "      <td>0.006633</td>\n",
       "      <td>0.003364</td>\n",
       "      <td>-0.010151</td>\n",
       "      <td>0.009100</td>\n",
       "      <td>0.028992</td>\n",
       "      <td>0.017378</td>\n",
       "      <td>0.015236</td>\n",
       "      <td>-0.019602</td>\n",
       "      <td>-0.005950</td>\n",
       "      <td>-0.005945</td>\n",
       "      <td>0.002324</td>\n",
       "      <td>0.095524</td>\n",
       "      <td>0.021745</td>\n",
       "      <td>0.043474</td>\n",
       "      <td>0.037234</td>\n",
       "    </tr>\n",
       "    <tr>\n",
       "      <th>CAMERE</th>\n",
       "      <td>0.008897</td>\n",
       "      <td>0.076185</td>\n",
       "      <td>0.009100</td>\n",
       "      <td>1.000000</td>\n",
       "      <td>0.300366</td>\n",
       "      <td>0.979528</td>\n",
       "      <td>0.922874</td>\n",
       "      <td>0.177775</td>\n",
       "      <td>1.000000</td>\n",
       "      <td>0.317743</td>\n",
       "      <td>0.044607</td>\n",
       "      <td>0.053089</td>\n",
       "      <td>0.036017</td>\n",
       "      <td>0.027950</td>\n",
       "      <td>-0.024714</td>\n",
       "      <td>0.104363</td>\n",
       "      <td>-0.044152</td>\n",
       "      <td>-0.396565</td>\n",
       "      <td>-0.196539</td>\n",
       "      <td>-0.297247</td>\n",
       "    </tr>\n",
       "    <tr>\n",
       "      <th>SUITE</th>\n",
       "      <td>0.002633</td>\n",
       "      <td>0.120791</td>\n",
       "      <td>-0.024779</td>\n",
       "      <td>0.300366</td>\n",
       "      <td>1.000000</td>\n",
       "      <td>0.291911</td>\n",
       "      <td>0.355822</td>\n",
       "      <td>0.085885</td>\n",
       "      <td>0.300366</td>\n",
       "      <td>0.015169</td>\n",
       "      <td>0.058035</td>\n",
       "      <td>0.003404</td>\n",
       "      <td>0.059154</td>\n",
       "      <td>0.005193</td>\n",
       "      <td>-0.013931</td>\n",
       "      <td>0.060332</td>\n",
       "      <td>-0.032573</td>\n",
       "      <td>-0.210295</td>\n",
       "      <td>-0.090285</td>\n",
       "      <td>-0.155058</td>\n",
       "    </tr>\n",
       "    <tr>\n",
       "      <th>LETTI</th>\n",
       "      <td>0.007181</td>\n",
       "      <td>0.077914</td>\n",
       "      <td>0.006633</td>\n",
       "      <td>0.979528</td>\n",
       "      <td>0.291911</td>\n",
       "      <td>1.000000</td>\n",
       "      <td>0.882423</td>\n",
       "      <td>0.159492</td>\n",
       "      <td>0.979528</td>\n",
       "      <td>0.360623</td>\n",
       "      <td>0.043951</td>\n",
       "      <td>0.044073</td>\n",
       "      <td>0.021364</td>\n",
       "      <td>0.027749</td>\n",
       "      <td>-0.027966</td>\n",
       "      <td>0.082351</td>\n",
       "      <td>-0.034246</td>\n",
       "      <td>-0.376564</td>\n",
       "      <td>-0.183176</td>\n",
       "      <td>-0.269290</td>\n",
       "    </tr>\n",
       "    <tr>\n",
       "      <th>BAGNI</th>\n",
       "      <td>0.007609</td>\n",
       "      <td>0.118488</td>\n",
       "      <td>0.003364</td>\n",
       "      <td>0.922874</td>\n",
       "      <td>0.355822</td>\n",
       "      <td>0.882423</td>\n",
       "      <td>1.000000</td>\n",
       "      <td>0.237039</td>\n",
       "      <td>0.922874</td>\n",
       "      <td>0.205343</td>\n",
       "      <td>0.054766</td>\n",
       "      <td>0.075058</td>\n",
       "      <td>0.068377</td>\n",
       "      <td>0.038261</td>\n",
       "      <td>-0.010930</td>\n",
       "      <td>0.142142</td>\n",
       "      <td>-0.094059</td>\n",
       "      <td>-0.480240</td>\n",
       "      <td>-0.234869</td>\n",
       "      <td>-0.389504</td>\n",
       "    </tr>\n",
       "    <tr>\n",
       "      <th>PRIMA_COLAZIONE</th>\n",
       "      <td>0.023297</td>\n",
       "      <td>0.095127</td>\n",
       "      <td>-0.010151</td>\n",
       "      <td>0.177775</td>\n",
       "      <td>0.085885</td>\n",
       "      <td>0.159492</td>\n",
       "      <td>0.237039</td>\n",
       "      <td>1.000000</td>\n",
       "      <td>0.177775</td>\n",
       "      <td>0.107344</td>\n",
       "      <td>0.032223</td>\n",
       "      <td>0.040988</td>\n",
       "      <td>0.112958</td>\n",
       "      <td>0.044196</td>\n",
       "      <td>0.032333</td>\n",
       "      <td>0.062857</td>\n",
       "      <td>-0.084721</td>\n",
       "      <td>-0.355932</td>\n",
       "      <td>-0.263788</td>\n",
       "      <td>-0.331451</td>\n",
       "    </tr>\n",
       "    <tr>\n",
       "      <th>IN_ABITATO</th>\n",
       "      <td>0.008897</td>\n",
       "      <td>0.076185</td>\n",
       "      <td>0.009100</td>\n",
       "      <td>1.000000</td>\n",
       "      <td>0.300366</td>\n",
       "      <td>0.979528</td>\n",
       "      <td>0.922874</td>\n",
       "      <td>0.177775</td>\n",
       "      <td>1.000000</td>\n",
       "      <td>0.317743</td>\n",
       "      <td>0.044607</td>\n",
       "      <td>0.053089</td>\n",
       "      <td>0.036017</td>\n",
       "      <td>0.027950</td>\n",
       "      <td>-0.024714</td>\n",
       "      <td>0.104363</td>\n",
       "      <td>-0.044152</td>\n",
       "      <td>-0.396565</td>\n",
       "      <td>-0.196539</td>\n",
       "      <td>-0.297247</td>\n",
       "    </tr>\n",
       "    <tr>\n",
       "      <th>SUL_LAGO</th>\n",
       "      <td>0.010389</td>\n",
       "      <td>-0.106033</td>\n",
       "      <td>0.028992</td>\n",
       "      <td>0.317743</td>\n",
       "      <td>0.015169</td>\n",
       "      <td>0.360623</td>\n",
       "      <td>0.205343</td>\n",
       "      <td>0.107344</td>\n",
       "      <td>0.317743</td>\n",
       "      <td>1.000000</td>\n",
       "      <td>-0.005818</td>\n",
       "      <td>-0.040562</td>\n",
       "      <td>-0.032872</td>\n",
       "      <td>-0.014569</td>\n",
       "      <td>-0.046730</td>\n",
       "      <td>-0.045683</td>\n",
       "      <td>0.014748</td>\n",
       "      <td>-0.130100</td>\n",
       "      <td>-0.075658</td>\n",
       "      <td>-0.196589</td>\n",
       "    </tr>\n",
       "    <tr>\n",
       "      <th>VICINO_ELIPORTO</th>\n",
       "      <td>-0.008045</td>\n",
       "      <td>0.039011</td>\n",
       "      <td>0.017378</td>\n",
       "      <td>0.044607</td>\n",
       "      <td>0.058035</td>\n",
       "      <td>0.043951</td>\n",
       "      <td>0.054766</td>\n",
       "      <td>0.032223</td>\n",
       "      <td>0.044607</td>\n",
       "      <td>-0.005818</td>\n",
       "      <td>1.000000</td>\n",
       "      <td>-0.004184</td>\n",
       "      <td>0.012164</td>\n",
       "      <td>-0.001503</td>\n",
       "      <td>-0.005749</td>\n",
       "      <td>0.040465</td>\n",
       "      <td>0.001096</td>\n",
       "      <td>-0.060656</td>\n",
       "      <td>-0.020100</td>\n",
       "      <td>-0.024277</td>\n",
       "    </tr>\n",
       "    <tr>\n",
       "      <th>VICINO_AEREOPORTO</th>\n",
       "      <td>0.005254</td>\n",
       "      <td>0.170357</td>\n",
       "      <td>0.015236</td>\n",
       "      <td>0.053089</td>\n",
       "      <td>0.003404</td>\n",
       "      <td>0.044073</td>\n",
       "      <td>0.075058</td>\n",
       "      <td>0.040988</td>\n",
       "      <td>0.053089</td>\n",
       "      <td>-0.040562</td>\n",
       "      <td>-0.004184</td>\n",
       "      <td>1.000000</td>\n",
       "      <td>0.132113</td>\n",
       "      <td>-0.010478</td>\n",
       "      <td>0.122448</td>\n",
       "      <td>0.234986</td>\n",
       "      <td>-0.168232</td>\n",
       "      <td>-0.070877</td>\n",
       "      <td>-0.194422</td>\n",
       "      <td>-0.096871</td>\n",
       "    </tr>\n",
       "    <tr>\n",
       "      <th>ZONA_CENTRALE</th>\n",
       "      <td>0.010674</td>\n",
       "      <td>0.158303</td>\n",
       "      <td>-0.019602</td>\n",
       "      <td>0.036017</td>\n",
       "      <td>0.059154</td>\n",
       "      <td>0.021364</td>\n",
       "      <td>0.068377</td>\n",
       "      <td>0.112958</td>\n",
       "      <td>0.036017</td>\n",
       "      <td>-0.032872</td>\n",
       "      <td>0.012164</td>\n",
       "      <td>0.132113</td>\n",
       "      <td>1.000000</td>\n",
       "      <td>-0.020520</td>\n",
       "      <td>-0.076251</td>\n",
       "      <td>0.239660</td>\n",
       "      <td>-0.214755</td>\n",
       "      <td>-0.117936</td>\n",
       "      <td>-0.286953</td>\n",
       "      <td>-0.219782</td>\n",
       "    </tr>\n",
       "    <tr>\n",
       "      <th>VICINO_IMP_RISALITA</th>\n",
       "      <td>-0.021934</td>\n",
       "      <td>-0.057793</td>\n",
       "      <td>-0.005950</td>\n",
       "      <td>0.027950</td>\n",
       "      <td>0.005193</td>\n",
       "      <td>0.027749</td>\n",
       "      <td>0.038261</td>\n",
       "      <td>0.044196</td>\n",
       "      <td>0.027950</td>\n",
       "      <td>-0.014569</td>\n",
       "      <td>-0.001503</td>\n",
       "      <td>-0.010478</td>\n",
       "      <td>-0.020520</td>\n",
       "      <td>1.000000</td>\n",
       "      <td>-0.014395</td>\n",
       "      <td>-0.017124</td>\n",
       "      <td>-0.002226</td>\n",
       "      <td>-0.049823</td>\n",
       "      <td>-0.042703</td>\n",
       "      <td>-0.084923</td>\n",
       "    </tr>\n",
       "    <tr>\n",
       "      <th>ZONA_PERIFERICA</th>\n",
       "      <td>-0.002472</td>\n",
       "      <td>0.084578</td>\n",
       "      <td>-0.005945</td>\n",
       "      <td>-0.024714</td>\n",
       "      <td>-0.013931</td>\n",
       "      <td>-0.027966</td>\n",
       "      <td>-0.010930</td>\n",
       "      <td>0.032333</td>\n",
       "      <td>-0.024714</td>\n",
       "      <td>-0.046730</td>\n",
       "      <td>-0.005749</td>\n",
       "      <td>0.122448</td>\n",
       "      <td>-0.076251</td>\n",
       "      <td>-0.014395</td>\n",
       "      <td>1.000000</td>\n",
       "      <td>0.080315</td>\n",
       "      <td>-0.119899</td>\n",
       "      <td>0.022879</td>\n",
       "      <td>-0.168550</td>\n",
       "      <td>-0.119256</td>\n",
       "    </tr>\n",
       "    <tr>\n",
       "      <th>ZONA_STAZIONE_FS</th>\n",
       "      <td>0.002962</td>\n",
       "      <td>0.196832</td>\n",
       "      <td>0.002324</td>\n",
       "      <td>0.104363</td>\n",
       "      <td>0.060332</td>\n",
       "      <td>0.082351</td>\n",
       "      <td>0.142142</td>\n",
       "      <td>0.062857</td>\n",
       "      <td>0.104363</td>\n",
       "      <td>-0.045683</td>\n",
       "      <td>0.040465</td>\n",
       "      <td>0.234986</td>\n",
       "      <td>0.239660</td>\n",
       "      <td>-0.017124</td>\n",
       "      <td>0.080315</td>\n",
       "      <td>1.000000</td>\n",
       "      <td>-0.194525</td>\n",
       "      <td>-0.168988</td>\n",
       "      <td>-0.254667</td>\n",
       "      <td>-0.211688</td>\n",
       "    </tr>\n",
       "    <tr>\n",
       "      <th>ATTREZZATURE_VARIE</th>\n",
       "      <td>-0.004240</td>\n",
       "      <td>-0.257960</td>\n",
       "      <td>0.095524</td>\n",
       "      <td>-0.044152</td>\n",
       "      <td>-0.032573</td>\n",
       "      <td>-0.034246</td>\n",
       "      <td>-0.094059</td>\n",
       "      <td>-0.084721</td>\n",
       "      <td>-0.044152</td>\n",
       "      <td>0.014748</td>\n",
       "      <td>0.001096</td>\n",
       "      <td>-0.168232</td>\n",
       "      <td>-0.214755</td>\n",
       "      <td>-0.002226</td>\n",
       "      <td>-0.119899</td>\n",
       "      <td>-0.194525</td>\n",
       "      <td>1.000000</td>\n",
       "      <td>0.148184</td>\n",
       "      <td>0.430224</td>\n",
       "      <td>0.196457</td>\n",
       "    </tr>\n",
       "    <tr>\n",
       "      <th>CARTE_ACCETTATE</th>\n",
       "      <td>-0.007732</td>\n",
       "      <td>-0.175506</td>\n",
       "      <td>0.021745</td>\n",
       "      <td>-0.396565</td>\n",
       "      <td>-0.210295</td>\n",
       "      <td>-0.376564</td>\n",
       "      <td>-0.480240</td>\n",
       "      <td>-0.355932</td>\n",
       "      <td>-0.396565</td>\n",
       "      <td>-0.130100</td>\n",
       "      <td>-0.060656</td>\n",
       "      <td>-0.070877</td>\n",
       "      <td>-0.117936</td>\n",
       "      <td>-0.049823</td>\n",
       "      <td>0.022879</td>\n",
       "      <td>-0.168988</td>\n",
       "      <td>0.148184</td>\n",
       "      <td>1.000000</td>\n",
       "      <td>0.314675</td>\n",
       "      <td>0.474484</td>\n",
       "    </tr>\n",
       "    <tr>\n",
       "      <th>LINGUE_PARLATE</th>\n",
       "      <td>-0.002051</td>\n",
       "      <td>-0.297363</td>\n",
       "      <td>0.043474</td>\n",
       "      <td>-0.196539</td>\n",
       "      <td>-0.090285</td>\n",
       "      <td>-0.183176</td>\n",
       "      <td>-0.234869</td>\n",
       "      <td>-0.263788</td>\n",
       "      <td>-0.196539</td>\n",
       "      <td>-0.075658</td>\n",
       "      <td>-0.020100</td>\n",
       "      <td>-0.194422</td>\n",
       "      <td>-0.286953</td>\n",
       "      <td>-0.042703</td>\n",
       "      <td>-0.168550</td>\n",
       "      <td>-0.254667</td>\n",
       "      <td>0.430224</td>\n",
       "      <td>0.314675</td>\n",
       "      <td>1.000000</td>\n",
       "      <td>0.476268</td>\n",
       "    </tr>\n",
       "    <tr>\n",
       "      <th>OUTPUT</th>\n",
       "      <td>0.004497</td>\n",
       "      <td>-0.196708</td>\n",
       "      <td>0.037234</td>\n",
       "      <td>-0.297247</td>\n",
       "      <td>-0.155058</td>\n",
       "      <td>-0.269290</td>\n",
       "      <td>-0.389504</td>\n",
       "      <td>-0.331451</td>\n",
       "      <td>-0.297247</td>\n",
       "      <td>-0.196589</td>\n",
       "      <td>-0.024277</td>\n",
       "      <td>-0.096871</td>\n",
       "      <td>-0.219782</td>\n",
       "      <td>-0.084923</td>\n",
       "      <td>-0.119256</td>\n",
       "      <td>-0.211688</td>\n",
       "      <td>0.196457</td>\n",
       "      <td>0.474484</td>\n",
       "      <td>0.476268</td>\n",
       "      <td>1.000000</td>\n",
       "    </tr>\n",
       "  </tbody>\n",
       "</table>\n",
       "</div>"
      ],
      "text/plain": [
       "                           ID  PROVINCIA    COMUNE    CAMERE     SUITE  \\\n",
       "ID                   1.000000  -0.001138  0.009904  0.008897  0.002633   \n",
       "PROVINCIA           -0.001138   1.000000  0.050438  0.076185  0.120791   \n",
       "COMUNE               0.009904   0.050438  1.000000  0.009100 -0.024779   \n",
       "CAMERE               0.008897   0.076185  0.009100  1.000000  0.300366   \n",
       "SUITE                0.002633   0.120791 -0.024779  0.300366  1.000000   \n",
       "LETTI                0.007181   0.077914  0.006633  0.979528  0.291911   \n",
       "BAGNI                0.007609   0.118488  0.003364  0.922874  0.355822   \n",
       "PRIMA_COLAZIONE      0.023297   0.095127 -0.010151  0.177775  0.085885   \n",
       "IN_ABITATO           0.008897   0.076185  0.009100  1.000000  0.300366   \n",
       "SUL_LAGO             0.010389  -0.106033  0.028992  0.317743  0.015169   \n",
       "VICINO_ELIPORTO     -0.008045   0.039011  0.017378  0.044607  0.058035   \n",
       "VICINO_AEREOPORTO    0.005254   0.170357  0.015236  0.053089  0.003404   \n",
       "ZONA_CENTRALE        0.010674   0.158303 -0.019602  0.036017  0.059154   \n",
       "VICINO_IMP_RISALITA -0.021934  -0.057793 -0.005950  0.027950  0.005193   \n",
       "ZONA_PERIFERICA     -0.002472   0.084578 -0.005945 -0.024714 -0.013931   \n",
       "ZONA_STAZIONE_FS     0.002962   0.196832  0.002324  0.104363  0.060332   \n",
       "ATTREZZATURE_VARIE  -0.004240  -0.257960  0.095524 -0.044152 -0.032573   \n",
       "CARTE_ACCETTATE     -0.007732  -0.175506  0.021745 -0.396565 -0.210295   \n",
       "LINGUE_PARLATE      -0.002051  -0.297363  0.043474 -0.196539 -0.090285   \n",
       "OUTPUT               0.004497  -0.196708  0.037234 -0.297247 -0.155058   \n",
       "\n",
       "                        LETTI     BAGNI  PRIMA_COLAZIONE  IN_ABITATO  \\\n",
       "ID                   0.007181  0.007609         0.023297    0.008897   \n",
       "PROVINCIA            0.077914  0.118488         0.095127    0.076185   \n",
       "COMUNE               0.006633  0.003364        -0.010151    0.009100   \n",
       "CAMERE               0.979528  0.922874         0.177775    1.000000   \n",
       "SUITE                0.291911  0.355822         0.085885    0.300366   \n",
       "LETTI                1.000000  0.882423         0.159492    0.979528   \n",
       "BAGNI                0.882423  1.000000         0.237039    0.922874   \n",
       "PRIMA_COLAZIONE      0.159492  0.237039         1.000000    0.177775   \n",
       "IN_ABITATO           0.979528  0.922874         0.177775    1.000000   \n",
       "SUL_LAGO             0.360623  0.205343         0.107344    0.317743   \n",
       "VICINO_ELIPORTO      0.043951  0.054766         0.032223    0.044607   \n",
       "VICINO_AEREOPORTO    0.044073  0.075058         0.040988    0.053089   \n",
       "ZONA_CENTRALE        0.021364  0.068377         0.112958    0.036017   \n",
       "VICINO_IMP_RISALITA  0.027749  0.038261         0.044196    0.027950   \n",
       "ZONA_PERIFERICA     -0.027966 -0.010930         0.032333   -0.024714   \n",
       "ZONA_STAZIONE_FS     0.082351  0.142142         0.062857    0.104363   \n",
       "ATTREZZATURE_VARIE  -0.034246 -0.094059        -0.084721   -0.044152   \n",
       "CARTE_ACCETTATE     -0.376564 -0.480240        -0.355932   -0.396565   \n",
       "LINGUE_PARLATE      -0.183176 -0.234869        -0.263788   -0.196539   \n",
       "OUTPUT              -0.269290 -0.389504        -0.331451   -0.297247   \n",
       "\n",
       "                     SUL_LAGO  VICINO_ELIPORTO  VICINO_AEREOPORTO  \\\n",
       "ID                   0.010389        -0.008045           0.005254   \n",
       "PROVINCIA           -0.106033         0.039011           0.170357   \n",
       "COMUNE               0.028992         0.017378           0.015236   \n",
       "CAMERE               0.317743         0.044607           0.053089   \n",
       "SUITE                0.015169         0.058035           0.003404   \n",
       "LETTI                0.360623         0.043951           0.044073   \n",
       "BAGNI                0.205343         0.054766           0.075058   \n",
       "PRIMA_COLAZIONE      0.107344         0.032223           0.040988   \n",
       "IN_ABITATO           0.317743         0.044607           0.053089   \n",
       "SUL_LAGO             1.000000        -0.005818          -0.040562   \n",
       "VICINO_ELIPORTO     -0.005818         1.000000          -0.004184   \n",
       "VICINO_AEREOPORTO   -0.040562        -0.004184           1.000000   \n",
       "ZONA_CENTRALE       -0.032872         0.012164           0.132113   \n",
       "VICINO_IMP_RISALITA -0.014569        -0.001503          -0.010478   \n",
       "ZONA_PERIFERICA     -0.046730        -0.005749           0.122448   \n",
       "ZONA_STAZIONE_FS    -0.045683         0.040465           0.234986   \n",
       "ATTREZZATURE_VARIE   0.014748         0.001096          -0.168232   \n",
       "CARTE_ACCETTATE     -0.130100        -0.060656          -0.070877   \n",
       "LINGUE_PARLATE      -0.075658        -0.020100          -0.194422   \n",
       "OUTPUT              -0.196589        -0.024277          -0.096871   \n",
       "\n",
       "                     ZONA_CENTRALE  VICINO_IMP_RISALITA  ZONA_PERIFERICA  \\\n",
       "ID                        0.010674            -0.021934        -0.002472   \n",
       "PROVINCIA                 0.158303            -0.057793         0.084578   \n",
       "COMUNE                   -0.019602            -0.005950        -0.005945   \n",
       "CAMERE                    0.036017             0.027950        -0.024714   \n",
       "SUITE                     0.059154             0.005193        -0.013931   \n",
       "LETTI                     0.021364             0.027749        -0.027966   \n",
       "BAGNI                     0.068377             0.038261        -0.010930   \n",
       "PRIMA_COLAZIONE           0.112958             0.044196         0.032333   \n",
       "IN_ABITATO                0.036017             0.027950        -0.024714   \n",
       "SUL_LAGO                 -0.032872            -0.014569        -0.046730   \n",
       "VICINO_ELIPORTO           0.012164            -0.001503        -0.005749   \n",
       "VICINO_AEREOPORTO         0.132113            -0.010478         0.122448   \n",
       "ZONA_CENTRALE             1.000000            -0.020520        -0.076251   \n",
       "VICINO_IMP_RISALITA      -0.020520             1.000000        -0.014395   \n",
       "ZONA_PERIFERICA          -0.076251            -0.014395         1.000000   \n",
       "ZONA_STAZIONE_FS          0.239660            -0.017124         0.080315   \n",
       "ATTREZZATURE_VARIE       -0.214755            -0.002226        -0.119899   \n",
       "CARTE_ACCETTATE          -0.117936            -0.049823         0.022879   \n",
       "LINGUE_PARLATE           -0.286953            -0.042703        -0.168550   \n",
       "OUTPUT                   -0.219782            -0.084923        -0.119256   \n",
       "\n",
       "                     ZONA_STAZIONE_FS  ATTREZZATURE_VARIE  CARTE_ACCETTATE  \\\n",
       "ID                           0.002962           -0.004240        -0.007732   \n",
       "PROVINCIA                    0.196832           -0.257960        -0.175506   \n",
       "COMUNE                       0.002324            0.095524         0.021745   \n",
       "CAMERE                       0.104363           -0.044152        -0.396565   \n",
       "SUITE                        0.060332           -0.032573        -0.210295   \n",
       "LETTI                        0.082351           -0.034246        -0.376564   \n",
       "BAGNI                        0.142142           -0.094059        -0.480240   \n",
       "PRIMA_COLAZIONE              0.062857           -0.084721        -0.355932   \n",
       "IN_ABITATO                   0.104363           -0.044152        -0.396565   \n",
       "SUL_LAGO                    -0.045683            0.014748        -0.130100   \n",
       "VICINO_ELIPORTO              0.040465            0.001096        -0.060656   \n",
       "VICINO_AEREOPORTO            0.234986           -0.168232        -0.070877   \n",
       "ZONA_CENTRALE                0.239660           -0.214755        -0.117936   \n",
       "VICINO_IMP_RISALITA         -0.017124           -0.002226        -0.049823   \n",
       "ZONA_PERIFERICA              0.080315           -0.119899         0.022879   \n",
       "ZONA_STAZIONE_FS             1.000000           -0.194525        -0.168988   \n",
       "ATTREZZATURE_VARIE          -0.194525            1.000000         0.148184   \n",
       "CARTE_ACCETTATE             -0.168988            0.148184         1.000000   \n",
       "LINGUE_PARLATE              -0.254667            0.430224         0.314675   \n",
       "OUTPUT                      -0.211688            0.196457         0.474484   \n",
       "\n",
       "                     LINGUE_PARLATE    OUTPUT  \n",
       "ID                        -0.002051  0.004497  \n",
       "PROVINCIA                 -0.297363 -0.196708  \n",
       "COMUNE                     0.043474  0.037234  \n",
       "CAMERE                    -0.196539 -0.297247  \n",
       "SUITE                     -0.090285 -0.155058  \n",
       "LETTI                     -0.183176 -0.269290  \n",
       "BAGNI                     -0.234869 -0.389504  \n",
       "PRIMA_COLAZIONE           -0.263788 -0.331451  \n",
       "IN_ABITATO                -0.196539 -0.297247  \n",
       "SUL_LAGO                  -0.075658 -0.196589  \n",
       "VICINO_ELIPORTO           -0.020100 -0.024277  \n",
       "VICINO_AEREOPORTO         -0.194422 -0.096871  \n",
       "ZONA_CENTRALE             -0.286953 -0.219782  \n",
       "VICINO_IMP_RISALITA       -0.042703 -0.084923  \n",
       "ZONA_PERIFERICA           -0.168550 -0.119256  \n",
       "ZONA_STAZIONE_FS          -0.254667 -0.211688  \n",
       "ATTREZZATURE_VARIE         0.430224  0.196457  \n",
       "CARTE_ACCETTATE            0.314675  0.474484  \n",
       "LINGUE_PARLATE             1.000000  0.476268  \n",
       "OUTPUT                     0.476268  1.000000  "
      ]
     },
     "execution_count": 22,
     "metadata": {},
     "output_type": "execute_result"
    }
   ],
   "source": [
    "cor_data.corr()"
   ]
  },
  {
   "cell_type": "code",
   "execution_count": 23,
   "id": "e8e4e974",
   "metadata": {},
   "outputs": [
    {
     "data": {
      "image/png": "[encoded data removed]",
      "text/plain": [
       "<Figure size 1584x1080 with 2 Axes>"
      ]
     },
     "metadata": {},
     "output_type": "display_data"
    }
   ],
   "source": [
    "#Pearson Correlation\n",
    "plt.figure(figsize =(22,15))\n",
    "sns.heatmap(df.corr(method = 'pearson'), annot = True, cmap = \"viridis\")\n",
    "plt.show()"
   ]
  },
  {
   "cell_type": "code",
   "execution_count": 24,
   "id": "62357289",
   "metadata": {},
   "outputs": [
    {
     "data": {
      "image/png": "[encoded data removed]",
      "text/plain": [
       "<Figure size 1584x1080 with 2 Axes>"
      ]
     },
     "metadata": {},
     "output_type": "display_data"
    }
   ],
   "source": [
    "#Spearman Correlation\n",
    "plt.figure(figsize =(22,15))\n",
    "sns.heatmap(df.corr(method = 'spearman'), annot = True, cmap = \"viridis\")\n",
    "plt.show()"
   ]
  },
  {
   "cell_type": "markdown",
   "id": "7806392a",
   "metadata": {},
   "source": [
    "# Training and Testing"
   ]
  },
  {
   "cell_type": "code",
   "execution_count": 25,
   "id": "653c64a0",
   "metadata": {},
   "outputs": [
    {
     "data": {
      "text/plain": [
       "['ID',\n",
       " 'PROVINCIA',\n",
       " 'COMUNE',\n",
       " 'CAMERE',\n",
       " 'SUITE',\n",
       " 'LETTI',\n",
       " 'BAGNI',\n",
       " 'PRIMA_COLAZIONE',\n",
       " 'IN_ABITATO',\n",
       " 'SUL_LAGO',\n",
       " 'VICINO_ELIPORTO',\n",
       " 'VICINO_AEREOPORTO',\n",
       " 'ZONA_CENTRALE',\n",
       " 'VICINO_IMP_RISALITA',\n",
       " 'ZONA_PERIFERICA',\n",
       " 'ZONA_STAZIONE_FS',\n",
       " 'ATTREZZATURE_VARIE',\n",
       " 'CARTE_ACCETTATE',\n",
       " 'LINGUE_PARLATE',\n",
       " 'OUTPUT']"
      ]
     },
     "execution_count": 25,
     "metadata": {},
     "output_type": "execute_result"
    }
   ],
   "source": [
    "list_1=list(df.columns)\n",
    "list_1"
   ]
  },
  {
   "cell_type": "code",
   "execution_count": 26,
   "id": "e3f7838d",
   "metadata": {},
   "outputs": [],
   "source": [
    "list_cate=[]\n",
    "for i in list_1:\n",
    "    if df[i].dtype=='object':\n",
    "        list_cate.append(i)"
   ]
  },
  {
   "cell_type": "code",
   "execution_count": 27,
   "id": "3cc643d0",
   "metadata": {},
   "outputs": [],
   "source": [
    "for i in list_cate:\n",
    "    df[i]=le.fit_transform(df[i])"
   ]
  },
  {
   "cell_type": "code",
   "execution_count": 28,
   "id": "5bbc5b2d",
   "metadata": {},
   "outputs": [
    {
     "data": {
      "text/html": [
       "<div>\n",
       "<style scoped>\n",
       "    .dataframe tbody tr th:only-of-type {\n",
       "        vertical-align: middle;\n",
       "    }\n",
       "\n",
       "    .dataframe tbody tr th {\n",
       "        vertical-align: top;\n",
       "    }\n",
       "\n",
       "    .dataframe thead th {\n",
       "        text-align: right;\n",
       "    }\n",
       "</style>\n",
       "<table border=\"1\" class=\"dataframe\">\n",
       "  <thead>\n",
       "    <tr style=\"text-align: right;\">\n",
       "      <th></th>\n",
       "      <th>ID</th>\n",
       "      <th>PROVINCIA</th>\n",
       "      <th>COMUNE</th>\n",
       "      <th>CAMERE</th>\n",
       "      <th>SUITE</th>\n",
       "      <th>LETTI</th>\n",
       "      <th>BAGNI</th>\n",
       "      <th>PRIMA_COLAZIONE</th>\n",
       "      <th>IN_ABITATO</th>\n",
       "      <th>SUL_LAGO</th>\n",
       "      <th>VICINO_ELIPORTO</th>\n",
       "      <th>VICINO_AEREOPORTO</th>\n",
       "      <th>ZONA_CENTRALE</th>\n",
       "      <th>VICINO_IMP_RISALITA</th>\n",
       "      <th>ZONA_PERIFERICA</th>\n",
       "      <th>ZONA_STAZIONE_FS</th>\n",
       "      <th>ATTREZZATURE_VARIE</th>\n",
       "      <th>CARTE_ACCETTATE</th>\n",
       "      <th>LINGUE_PARLATE</th>\n",
       "      <th>OUTPUT</th>\n",
       "    </tr>\n",
       "  </thead>\n",
       "  <tbody>\n",
       "    <tr>\n",
       "      <th>0</th>\n",
       "      <td>0</td>\n",
       "      <td>1</td>\n",
       "      <td>629</td>\n",
       "      <td>2</td>\n",
       "      <td>0</td>\n",
       "      <td>4</td>\n",
       "      <td>1</td>\n",
       "      <td>0</td>\n",
       "      <td>0</td>\n",
       "      <td>0</td>\n",
       "      <td>0</td>\n",
       "      <td>0</td>\n",
       "      <td>0</td>\n",
       "      <td>0</td>\n",
       "      <td>0</td>\n",
       "      <td>0</td>\n",
       "      <td>2758</td>\n",
       "      <td>703</td>\n",
       "      <td>211</td>\n",
       "      <td>2</td>\n",
       "    </tr>\n",
       "    <tr>\n",
       "      <th>1</th>\n",
       "      <td>1</td>\n",
       "      <td>1</td>\n",
       "      <td>336</td>\n",
       "      <td>4</td>\n",
       "      <td>0</td>\n",
       "      <td>8</td>\n",
       "      <td>4</td>\n",
       "      <td>0</td>\n",
       "      <td>0</td>\n",
       "      <td>0</td>\n",
       "      <td>0</td>\n",
       "      <td>0</td>\n",
       "      <td>0</td>\n",
       "      <td>0</td>\n",
       "      <td>0</td>\n",
       "      <td>0</td>\n",
       "      <td>2758</td>\n",
       "      <td>703</td>\n",
       "      <td>211</td>\n",
       "      <td>2</td>\n",
       "    </tr>\n",
       "    <tr>\n",
       "      <th>2</th>\n",
       "      <td>2</td>\n",
       "      <td>0</td>\n",
       "      <td>67</td>\n",
       "      <td>1</td>\n",
       "      <td>0</td>\n",
       "      <td>2</td>\n",
       "      <td>1</td>\n",
       "      <td>0</td>\n",
       "      <td>0</td>\n",
       "      <td>0</td>\n",
       "      <td>0</td>\n",
       "      <td>0</td>\n",
       "      <td>0</td>\n",
       "      <td>0</td>\n",
       "      <td>0</td>\n",
       "      <td>0</td>\n",
       "      <td>782</td>\n",
       "      <td>703</td>\n",
       "      <td>211</td>\n",
       "      <td>4</td>\n",
       "    </tr>\n",
       "    <tr>\n",
       "      <th>3</th>\n",
       "      <td>3</td>\n",
       "      <td>8</td>\n",
       "      <td>499</td>\n",
       "      <td>93</td>\n",
       "      <td>2</td>\n",
       "      <td>194</td>\n",
       "      <td>96</td>\n",
       "      <td>0</td>\n",
       "      <td>0</td>\n",
       "      <td>0</td>\n",
       "      <td>0</td>\n",
       "      <td>0</td>\n",
       "      <td>0</td>\n",
       "      <td>0</td>\n",
       "      <td>0</td>\n",
       "      <td>0</td>\n",
       "      <td>1293</td>\n",
       "      <td>358</td>\n",
       "      <td>92</td>\n",
       "      <td>1</td>\n",
       "    </tr>\n",
       "    <tr>\n",
       "      <th>4</th>\n",
       "      <td>4</td>\n",
       "      <td>7</td>\n",
       "      <td>530</td>\n",
       "      <td>2</td>\n",
       "      <td>0</td>\n",
       "      <td>4</td>\n",
       "      <td>1</td>\n",
       "      <td>0</td>\n",
       "      <td>0</td>\n",
       "      <td>0</td>\n",
       "      <td>0</td>\n",
       "      <td>0</td>\n",
       "      <td>0</td>\n",
       "      <td>0</td>\n",
       "      <td>0</td>\n",
       "      <td>0</td>\n",
       "      <td>2758</td>\n",
       "      <td>703</td>\n",
       "      <td>211</td>\n",
       "      <td>4</td>\n",
       "    </tr>\n",
       "  </tbody>\n",
       "</table>\n",
       "</div>"
      ],
      "text/plain": [
       "   ID  PROVINCIA  COMUNE  CAMERE  SUITE  LETTI  BAGNI  PRIMA_COLAZIONE  \\\n",
       "0   0          1     629       2      0      4      1                0   \n",
       "1   1          1     336       4      0      8      4                0   \n",
       "2   2          0      67       1      0      2      1                0   \n",
       "3   3          8     499      93      2    194     96                0   \n",
       "4   4          7     530       2      0      4      1                0   \n",
       "\n",
       "   IN_ABITATO  SUL_LAGO  VICINO_ELIPORTO  VICINO_AEREOPORTO  ZONA_CENTRALE  \\\n",
       "0           0         0                0                  0              0   \n",
       "1           0         0                0                  0              0   \n",
       "2           0         0                0                  0              0   \n",
       "3           0         0                0                  0              0   \n",
       "4           0         0                0                  0              0   \n",
       "\n",
       "   VICINO_IMP_RISALITA  ZONA_PERIFERICA  ZONA_STAZIONE_FS  ATTREZZATURE_VARIE  \\\n",
       "0                    0                0                 0                2758   \n",
       "1                    0                0                 0                2758   \n",
       "2                    0                0                 0                 782   \n",
       "3                    0                0                 0                1293   \n",
       "4                    0                0                 0                2758   \n",
       "\n",
       "   CARTE_ACCETTATE  LINGUE_PARLATE  OUTPUT  \n",
       "0              703             211       2  \n",
       "1              703             211       2  \n",
       "2              703             211       4  \n",
       "3              358              92       1  \n",
       "4              703             211       4  "
      ]
     },
     "execution_count": 28,
     "metadata": {},
     "output_type": "execute_result"
    }
   ],
   "source": [
    "df.head()"
   ]
  },
  {
   "cell_type": "code",
   "execution_count": 29,
   "id": "a9288e9f",
   "metadata": {},
   "outputs": [],
   "source": [
    "X = df.drop(['OUTPUT'], axis=1)\n",
    "y = df['OUTPUT']"
   ]
  },
  {
   "cell_type": "code",
   "execution_count": 30,
   "id": "8176d1b7",
   "metadata": {},
   "outputs": [],
   "source": [
    "X_train, X_test, y_train, y_test = train_test_split(X, y, test_size = 0.33, random_state = 42)"
   ]
  },
  {
   "cell_type": "code",
   "execution_count": 31,
   "id": "0b232da0",
   "metadata": {},
   "outputs": [
    {
     "data": {
      "text/plain": [
       "((4467, 19), (2201, 19))"
      ]
     },
     "execution_count": 31,
     "metadata": {},
     "output_type": "execute_result"
    }
   ],
   "source": [
    "X_train.shape, X_test.shape"
   ]
  },
  {
   "cell_type": "code",
   "execution_count": 32,
   "id": "ec806566",
   "metadata": {},
   "outputs": [
    {
     "data": {
      "text/plain": [
       "<AxesSubplot:>"
      ]
     },
     "execution_count": 32,
     "metadata": {},
     "output_type": "execute_result"
    },
    {
     "data": {
      "image/png": "[encoded data removed]",
      "text/plain": [
       "<Figure size 1080x720 with 1 Axes>"
      ]
     },
     "metadata": {},
     "output_type": "display_data"
    }
   ],
   "source": [
    "randomf = RandomForestClassifier()\n",
    "rf_model1 = randomf.fit(X_train, y_train)\n",
    "\n",
    "pd.DataFrame(data = rf_model1.feature_importances_*100,\n",
    "                   columns = [\"Importances\"],\n",
    "                   index = X_train.columns).sort_values(\"Importances\", ascending = False).plot(\n",
    "    kind = \"barh\",label = (\"Feature Importances (%)\"), color = \"b\", figsize =(15,10))"
   ]
  },
  {
   "cell_type": "markdown",
   "id": "a129a6f6",
   "metadata": {},
   "source": [
    "### Modelling"
   ]
  },
  {
   "cell_type": "markdown",
   "id": "e92967c0",
   "metadata": {},
   "source": [
    "#### 1-Logistic Regression"
   ]
  },
  {
   "cell_type": "code",
   "execution_count": 33,
   "id": "59025d37",
   "metadata": {},
   "outputs": [
    {
     "data": {
      "text/plain": [
       "LogisticRegression()"
      ]
     },
     "execution_count": 33,
     "metadata": {},
     "output_type": "execute_result"
    }
   ],
   "source": [
    "reg = LogisticRegression()\n",
    "reg.fit(X_train,y_train)"
   ]
  },
  {
   "cell_type": "code",
   "execution_count": 34,
   "id": "68f0fd85",
   "metadata": {},
   "outputs": [
    {
     "name": "stdout",
     "output_type": "stream",
     "text": [
      "Classification Report is:\n",
      "               precision    recall  f1-score   support\n",
      "\n",
      "           0       0.69      0.57      0.62       508\n",
      "           1       0.67      0.45      0.54       143\n",
      "           2       0.74      0.37      0.49       597\n",
      "           3       0.95      0.73      0.83        52\n",
      "           4       0.60      0.90      0.72       901\n",
      "\n",
      "    accuracy                           0.65      2201\n",
      "   macro avg       0.73      0.60      0.64      2201\n",
      "weighted avg       0.67      0.65      0.63      2201\n",
      "\n",
      "Confusion Matrix:\n",
      " [[291  26  15   1 175]\n",
      " [ 63  65   1   0  14]\n",
      " [ 35   0 218   0 344]\n",
      " [ 10   3   0  38   1]\n",
      " [ 25   3  62   1 810]]\n",
      "Training Score:\n",
      " 66.35325721961047\n",
      "Accuracy Score of Logistic Regression is : 0.6460699681962744\n"
     ]
    }
   ],
   "source": [
    "y_pred_reg=reg.predict(X_test)\n",
    "acc_reg = accuracy_score(y_test, y_pred_reg)\n",
    "print(\"Classification Report is:\\n\",classification_report(y_test,y_pred_reg))\n",
    "print(\"Confusion Matrix:\\n\",confusion_matrix(y_test,y_pred_reg))\n",
    "print(\"Training Score:\\n\",reg.score(X_train,y_train)*100)\n",
    "print(f\"Accuracy Score of Logistic Regression is : {acc_reg}\")"
   ]
  },
  {
   "cell_type": "markdown",
   "id": "832f433f",
   "metadata": {},
   "source": [
    "#### 2-K Neighbors Classification"
   ]
  },
  {
   "cell_type": "code",
   "execution_count": 35,
   "id": "4fb4c8e4",
   "metadata": {},
   "outputs": [
    {
     "name": "stdout",
     "output_type": "stream",
     "text": [
      "Accuracy Score of KNN is : 0.6338028169014085\n",
      "Confusion Matrix : \n",
      "[[343  32  69   1  63]\n",
      " [ 77  51   4   0  11]\n",
      " [ 50   1 256   0 290]\n",
      " [ 18   0   7  20   7]\n",
      " [ 20   2 154   0 725]]\n",
      "Classification Report : \n",
      "              precision    recall  f1-score   support\n",
      "\n",
      "           0       0.68      0.68      0.68       508\n",
      "           1       0.59      0.36      0.45       143\n",
      "           2       0.52      0.43      0.47       597\n",
      "           3       0.95      0.38      0.55        52\n",
      "           4       0.66      0.80      0.73       901\n",
      "\n",
      "    accuracy                           0.63      2201\n",
      "   macro avg       0.68      0.53      0.57      2201\n",
      "weighted avg       0.63      0.63      0.62      2201\n",
      "\n"
     ]
    }
   ],
   "source": [
    "knn = KNeighborsClassifier()\n",
    "knn.fit(X_train, y_train)\n",
    "\n",
    "y_pred_knn = knn.predict(X_test)\n",
    "\n",
    "acc_knn = accuracy_score(y_test, y_pred_knn)\n",
    "conf = confusion_matrix(y_test, y_pred_knn)\n",
    "clf_report = classification_report(y_test, y_pred_knn)\n",
    "\n",
    "print(f\"Accuracy Score of KNN is : {acc_knn}\")\n",
    "print(f\"Confusion Matrix : \\n{conf}\")\n",
    "print(f\"Classification Report : \\n{clf_report}\")"
   ]
  },
  {
   "cell_type": "markdown",
   "id": "ec20c833",
   "metadata": {},
   "source": [
    "#### 3-Decision Tree Classification"
   ]
  },
  {
   "cell_type": "code",
   "execution_count": 36,
   "id": "7c13323a",
   "metadata": {},
   "outputs": [
    {
     "data": {
      "text/plain": [
       "DecisionTreeClassifier(criterion='entropy', max_depth=6, random_state=123)"
      ]
     },
     "execution_count": 36,
     "metadata": {},
     "output_type": "execute_result"
    }
   ],
   "source": [
    "dtree = DecisionTreeClassifier(max_depth=6, random_state=123,criterion='entropy')\n",
    "dtree.fit(X_train,y_train)"
   ]
  },
  {
   "cell_type": "code",
   "execution_count": 37,
   "id": "d48ecbca",
   "metadata": {},
   "outputs": [
    {
     "name": "stdout",
     "output_type": "stream",
     "text": [
      "[[432  42   4   2  28]\n",
      " [ 54  84   0   1   4]\n",
      " [  0   0 476   0 121]\n",
      " [  0   2   0  49   1]\n",
      " [  6   0  85   4 806]]\n",
      "              precision    recall  f1-score   support\n",
      "\n",
      "           0       0.88      0.85      0.86       508\n",
      "           1       0.66      0.59      0.62       143\n",
      "           2       0.84      0.80      0.82       597\n",
      "           3       0.88      0.94      0.91        52\n",
      "           4       0.84      0.89      0.87       901\n",
      "\n",
      "    accuracy                           0.84      2201\n",
      "   macro avg       0.82      0.81      0.82      2201\n",
      "weighted avg       0.84      0.84      0.84      2201\n",
      "\n"
     ]
    },
    {
     "data": {
      "text/plain": [
       "0.8391640163562017"
      ]
     },
     "execution_count": 37,
     "metadata": {},
     "output_type": "execute_result"
    }
   ],
   "source": [
    "y_pred=dtree.predict(X_test)\n",
    "conf =print(confusion_matrix(y_test, y_pred))\n",
    "clf =print(classification_report(y_test, y_pred))\n",
    "decision_tree_score=accuracy_score(y_test,y_pred)\n",
    "decision_tree_score"
   ]
  },
  {
   "cell_type": "markdown",
   "id": "4799d96c",
   "metadata": {},
   "source": [
    "#### 4-Random Forest Classification"
   ]
  },
  {
   "cell_type": "code",
   "execution_count": 38,
   "id": "0066c632",
   "metadata": {},
   "outputs": [
    {
     "data": {
      "text/plain": [
       "RandomForestClassifier()"
      ]
     },
     "execution_count": 38,
     "metadata": {},
     "output_type": "execute_result"
    }
   ],
   "source": [
    "rfc=RandomForestClassifier()\n",
    "rfc.fit(X_train,y_train)"
   ]
  },
  {
   "cell_type": "code",
   "execution_count": 39,
   "id": "72d6aaed",
   "metadata": {},
   "outputs": [
    {
     "name": "stdout",
     "output_type": "stream",
     "text": [
      "[[457  32   3   0  16]\n",
      " [ 60  80   0   0   3]\n",
      " [  0   0 493   0 104]\n",
      " [  1   0   0  49   2]\n",
      " [  9   2  48   0 842]]\n",
      "              precision    recall  f1-score   support\n",
      "\n",
      "           0       0.87      0.90      0.88       508\n",
      "           1       0.70      0.56      0.62       143\n",
      "           2       0.91      0.83      0.86       597\n",
      "           3       1.00      0.94      0.97        52\n",
      "           4       0.87      0.93      0.90       901\n",
      "\n",
      "    accuracy                           0.87      2201\n",
      "   macro avg       0.87      0.83      0.85      2201\n",
      "weighted avg       0.87      0.87      0.87      2201\n",
      "\n"
     ]
    },
    {
     "data": {
      "text/plain": [
       "0.8727850976828714"
      ]
     },
     "execution_count": 39,
     "metadata": {},
     "output_type": "execute_result"
    }
   ],
   "source": [
    "y_pred=rfc.predict(X_test)\n",
    "conf =print(confusion_matrix(y_test, y_pred))\n",
    "clf =print(classification_report(y_test, y_pred))\n",
    "random_forest_score=accuracy_score(y_test,y_pred)\n",
    "random_forest_score"
   ]
  },
  {
   "cell_type": "markdown",
   "id": "301d12af",
   "metadata": {},
   "source": [
    "#### 5-AdaBoost Classification"
   ]
  },
  {
   "cell_type": "code",
   "execution_count": 40,
   "id": "948c4cf0",
   "metadata": {},
   "outputs": [
    {
     "data": {
      "text/plain": [
       "AdaBoostClassifier()"
      ]
     },
     "execution_count": 40,
     "metadata": {},
     "output_type": "execute_result"
    }
   ],
   "source": [
    "adb = AdaBoostClassifier(base_estimator = None)\n",
    "adb.fit(X_train,y_train)"
   ]
  },
  {
   "cell_type": "code",
   "execution_count": 41,
   "id": "9f3102bc",
   "metadata": {},
   "outputs": [
    {
     "name": "stdout",
     "output_type": "stream",
     "text": [
      "[[311  59   5   2 131]\n",
      " [ 19  23   0   1 100]\n",
      " [  0   0 542   0  55]\n",
      " [  0   0   0  30  22]\n",
      " [ 62   0 534   4 301]]\n",
      "              precision    recall  f1-score   support\n",
      "\n",
      "           0       0.79      0.61      0.69       508\n",
      "           1       0.28      0.16      0.20       143\n",
      "           2       0.50      0.91      0.65       597\n",
      "           3       0.81      0.58      0.67        52\n",
      "           4       0.49      0.33      0.40       901\n",
      "\n",
      "    accuracy                           0.55      2201\n",
      "   macro avg       0.58      0.52      0.52      2201\n",
      "weighted avg       0.56      0.55      0.53      2201\n",
      "\n"
     ]
    },
    {
     "data": {
      "text/plain": [
       "0.5483870967741935"
      ]
     },
     "execution_count": 41,
     "metadata": {},
     "output_type": "execute_result"
    }
   ],
   "source": [
    "y_pred=adb.predict(X_test)\n",
    "conf =print(confusion_matrix(y_test, y_pred))\n",
    "clf =print(classification_report(y_test, y_pred))\n",
    "adaboost_score=accuracy_score(y_test,y_pred)\n",
    "adaboost_score"
   ]
  },
  {
   "cell_type": "markdown",
   "id": "fff10fd9",
   "metadata": {},
   "source": [
    "#### 6-Gradient Boosting Classification"
   ]
  },
  {
   "cell_type": "code",
   "execution_count": 42,
   "id": "f5ee5200",
   "metadata": {},
   "outputs": [
    {
     "data": {
      "text/plain": [
       "GradientBoostingClassifier()"
      ]
     },
     "execution_count": 42,
     "metadata": {},
     "output_type": "execute_result"
    }
   ],
   "source": [
    "gbc=GradientBoostingClassifier()\n",
    "gbc.fit(X_train,y_train)"
   ]
  },
  {
   "cell_type": "code",
   "execution_count": 43,
   "id": "415600ec",
   "metadata": {},
   "outputs": [
    {
     "name": "stdout",
     "output_type": "stream",
     "text": [
      "[[463  28   1   0  16]\n",
      " [ 56  84   0   0   3]\n",
      " [  0   0 474   0 123]\n",
      " [  1   0   0  50   1]\n",
      " [  7   2  43   2 847]]\n",
      "              precision    recall  f1-score   support\n",
      "\n",
      "           0       0.88      0.91      0.89       508\n",
      "           1       0.74      0.59      0.65       143\n",
      "           2       0.92      0.79      0.85       597\n",
      "           3       0.96      0.96      0.96        52\n",
      "           4       0.86      0.94      0.90       901\n",
      "\n",
      "    accuracy                           0.87      2201\n",
      "   macro avg       0.87      0.84      0.85      2201\n",
      "weighted avg       0.87      0.87      0.87      2201\n",
      "\n"
     ]
    },
    {
     "data": {
      "text/plain": [
       "0.8714220808723308"
      ]
     },
     "execution_count": 43,
     "metadata": {},
     "output_type": "execute_result"
    }
   ],
   "source": [
    "y_pred=gbc.predict(X_test)\n",
    "conf =print(confusion_matrix(y_test, y_pred))\n",
    "clf =print(classification_report(y_test, y_pred))\n",
    "gradient_boosting_score=accuracy_score(y_test,y_pred)\n",
    "gradient_boosting_score"
   ]
  },
  {
   "cell_type": "markdown",
   "id": "9f73cea8",
   "metadata": {},
   "source": [
    "#### 7-XGB Classification"
   ]
  },
  {
   "cell_type": "code",
   "execution_count": 44,
   "id": "0df9090d",
   "metadata": {},
   "outputs": [
    {
     "name": "stdout",
     "output_type": "stream",
     "text": [
      "[01:57:24] WARNING: C:/Users/Administrator/workspace/xgboost-win64_release_1.5.1/src/learner.cc:1115: Starting in XGBoost 1.3.0, the default evaluation metric used with the objective 'multi:softprob' was changed from 'merror' to 'mlogloss'. Explicitly set eval_metric if you'd like to restore the old behavior.\n"
     ]
    },
    {
     "data": {
      "text/plain": [
       "XGBClassifier(alpha=10, base_score=0.5, booster='gbtree', colsample_bylevel=1,\n",
       "              colsample_bynode=1, colsample_bytree=0.3,\n",
       "              enable_categorical=False, gamma=0, gpu_id=-1,\n",
       "              importance_type=None, interaction_constraints='',\n",
       "              learning_rate=0.1, max_delta_step=0, max_depth=5,\n",
       "              min_child_weight=1, missing=nan, monotone_constraints='()',\n",
       "              n_estimators=10, n_jobs=8, num_parallel_tree=1,\n",
       "              objective='multi:softprob', predictor='auto', random_state=0,\n",
       "              reg_alpha=10, reg_lambda=1, scale_pos_weight=None, subsample=1,\n",
       "              tree_method='exact', validate_parameters=1, verbosity=None)"
      ]
     },
     "execution_count": 44,
     "metadata": {},
     "output_type": "execute_result"
    }
   ],
   "source": [
    "xgb =XGBClassifier(objective ='reg:linear', colsample_bytree = 0.3, learning_rate = 0.1,\n",
    "                max_depth = 5, alpha = 10, n_estimators = 10)\n",
    "\n",
    "xgb.fit(X_train, y_train)"
   ]
  },
  {
   "cell_type": "code",
   "execution_count": 45,
   "id": "33fbe5a5",
   "metadata": {},
   "outputs": [
    {
     "name": "stdout",
     "output_type": "stream",
     "text": [
      "[[443  28   3   1  33]\n",
      " [ 66  74   0   1   2]\n",
      " [  0   0 329   0 268]\n",
      " [  6   3   0  36   7]\n",
      " [ 29   1  19   0 852]]\n",
      "              precision    recall  f1-score   support\n",
      "\n",
      "           0       0.81      0.87      0.84       508\n",
      "           1       0.70      0.52      0.59       143\n",
      "           2       0.94      0.55      0.69       597\n",
      "           3       0.95      0.69      0.80        52\n",
      "           4       0.73      0.95      0.83       901\n",
      "\n",
      "    accuracy                           0.79      2201\n",
      "   macro avg       0.83      0.72      0.75      2201\n",
      "weighted avg       0.81      0.79      0.78      2201\n",
      "\n"
     ]
    },
    {
     "data": {
      "text/plain": [
       "0.7878237164925034"
      ]
     },
     "execution_count": 45,
     "metadata": {},
     "output_type": "execute_result"
    }
   ],
   "source": [
    "y_pred=xgb.predict(X_test)\n",
    "conf =print(confusion_matrix(y_test, y_pred))\n",
    "clf =print(classification_report(y_test, y_pred))\n",
    "xgb_score=accuracy_score(y_test,y_pred)\n",
    "xgb_score"
   ]
  },
  {
   "cell_type": "markdown",
   "id": "d8cc4e60",
   "metadata": {},
   "source": [
    "#### 8-ExtraTrees Classification"
   ]
  },
  {
   "cell_type": "code",
   "execution_count": 46,
   "id": "5f39ad3b",
   "metadata": {},
   "outputs": [
    {
     "data": {
      "text/plain": [
       "ExtraTreesClassifier(random_state=0)"
      ]
     },
     "execution_count": 46,
     "metadata": {},
     "output_type": "execute_result"
    }
   ],
   "source": [
    "etc = ExtraTreesClassifier(n_estimators=100, random_state=0)\n",
    "etc.fit(X_train,y_train)"
   ]
  },
  {
   "cell_type": "code",
   "execution_count": 47,
   "id": "1661e988",
   "metadata": {},
   "outputs": [
    {
     "name": "stdout",
     "output_type": "stream",
     "text": [
      "[[454  33   2   1  18]\n",
      " [ 60  80   0   1   2]\n",
      " [  0   0 475   0 122]\n",
      " [  1   0   0  50   1]\n",
      " [  5   1  54   0 841]]\n",
      "              precision    recall  f1-score   support\n",
      "\n",
      "           0       0.87      0.89      0.88       508\n",
      "           1       0.70      0.56      0.62       143\n",
      "           2       0.89      0.80      0.84       597\n",
      "           3       0.96      0.96      0.96        52\n",
      "           4       0.85      0.93      0.89       901\n",
      "\n",
      "    accuracy                           0.86      2201\n",
      "   macro avg       0.86      0.83      0.84      2201\n",
      "weighted avg       0.86      0.86      0.86      2201\n",
      "\n"
     ]
    },
    {
     "data": {
      "text/plain": [
       "0.8632439800090868"
      ]
     },
     "execution_count": 47,
     "metadata": {},
     "output_type": "execute_result"
    }
   ],
   "source": [
    "y_pred=etc.predict(X_test)\n",
    "conf =print(confusion_matrix(y_test, y_pred))\n",
    "clf =print(classification_report(y_test, y_pred))\n",
    "extraTree_score=accuracy_score(y_test,y_pred)\n",
    "extraTree_score"
   ]
  },
  {
   "cell_type": "markdown",
   "id": "5e427c7f",
   "metadata": {},
   "source": [
    "#### 9-Bagging  Classification"
   ]
  },
  {
   "cell_type": "code",
   "execution_count": 48,
   "id": "8bcd98a9",
   "metadata": {},
   "outputs": [
    {
     "data": {
      "text/plain": [
       "0.8514311676510677"
      ]
     },
     "execution_count": 48,
     "metadata": {},
     "output_type": "execute_result"
    }
   ],
   "source": [
    "bagging_model = BaggingClassifier(tree.DecisionTreeClassifier(random_state=1))\n",
    "bagging_model.fit(X_train, y_train)\n",
    "bagging_model.score(X_test,y_test)"
   ]
  },
  {
   "cell_type": "markdown",
   "id": "e8c6f4ce",
   "metadata": {},
   "source": [
    "# RESULT"
   ]
  },
  {
   "cell_type": "code",
   "execution_count": 49,
   "id": "638becdd",
   "metadata": {},
   "outputs": [
    {
     "name": "stdout",
     "output_type": "stream",
     "text": [
      "Logistic Regression Score: 0.6460699681962744\n",
      "K Neighbors Classifier Score: 0.6338028169014085\n",
      "DecisionTree Classifier Score: 0.8391640163562017\n",
      "Random Forest Classifier Score: 0.8727850976828714\n",
      "AdaBoost Classifier Score: 0.5483870967741935\n",
      "Gradient Boosting Classifier Score: 0.8714220808723308\n",
      "XGB Classifier Score: 0.7878237164925034\n",
      "ExtraTree Classifier Score: 0.8632439800090868\n",
      "Bagging Classifier Score: 0.8514311676510677\n"
     ]
    }
   ],
   "source": [
    "print(\"Logistic Regression Score:\",acc_reg)\n",
    "print(\"K Neighbors Classifier Score:\",acc_knn)\n",
    "print(\"DecisionTree Classifier Score:\",decision_tree_score)\n",
    "print(\"Random Forest Classifier Score:\",random_forest_score)\n",
    "print(\"AdaBoost Classifier Score:\",adaboost_score)\n",
    "print(\"Gradient Boosting Classifier Score:\",gradient_boosting_score)\n",
    "print(\"XGB Classifier Score:\",xgb_score)\n",
    "print(\"ExtraTree Classifier Score:\",extraTree_score)\n",
    "print(\"Bagging Classifier Score:\",bagging_model.score(X_test,y_test))"
   ]
  },
  {
   "cell_type": "markdown",
   "id": "458c9c7a",
   "metadata": {},
   "source": [
    "According the scores,Random Forest Classifier gives best result with  <b>0.872785</b>. Also Gradient Boosting is gives very close to Random Forest Classifier with <b>0.871422</b>, and finally AdaBoost is give the worst performance with <b>0.548387</b>."
   ]
  }
 ],
 "metadata": {
  "kernelspec": {
   "display_name": "Python 3 (ipykernel)",
   "language": "python",
   "name": "python3"
  },
  "language_info": {
   "codemirror_mode": {
    "name": "ipython",
    "version": 3
   },
   "file_extension": ".py",
   "mimetype": "text/x-python",
   "name": "python",
   "nbconvert_exporter": "python",
   "pygments_lexer": "ipython3",
   "version": "3.7.6"
  }
 },
 "nbformat": 4,
 "nbformat_minor": 5
}
